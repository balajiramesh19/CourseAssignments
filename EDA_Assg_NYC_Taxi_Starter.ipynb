{
 "cells": [
  {
   "cell_type": "markdown",
   "metadata": {
    "id": "ZQl5n2IOuafL"
   },
   "source": [
    "# **New York City Yellow Taxi Data**"
   ]
  },
  {
   "cell_type": "markdown",
   "metadata": {
    "id": "DGQVIB4mEFrZ"
   },
   "source": [
    "## Objective\n",
    "In this case study you will be learning exploratory data analysis (EDA) with the help of a dataset on yellow taxi rides in New York City. This will enable you to understand why EDA is an important step in the process of data science and machine learning."
   ]
  },
  {
   "cell_type": "markdown",
   "metadata": {
    "id": "YJVMenVllLUL"
   },
   "source": [
    "## **Problem Statement**\n",
    "As an analyst at an upcoming taxi operation in NYC, you are tasked to use the 2023 taxi trip data to uncover insights that could help optimise taxi operations. The goal is to analyse patterns in the data that can inform strategic decisions to improve service efficiency, maximise revenue, and enhance passenger experience."
   ]
  },
  {
   "cell_type": "markdown",
   "metadata": {
    "id": "-OVfUMlHFkZD"
   },
   "source": [
    "## Tasks\n",
    "You need to perform the following steps for successfully completing this assignment:\n",
    "1. Data Loading\n",
    "2. Data Cleaning\n",
    "3. Exploratory Analysis: Bivariate and Multivariate\n",
    "4. Creating Visualisations to Support the Analysis\n",
    "5. Deriving Insights and Stating Conclusions"
   ]
  },
  {
   "cell_type": "markdown",
   "metadata": {
    "id": "gTxV-3GJUhWm"
   },
   "source": [
    "---"
   ]
  },
  {
   "cell_type": "markdown",
   "metadata": {
    "id": "ofebI8ITG-Li"
   },
   "source": [
    "**NOTE:** The marks given along with headings and sub-headings are cumulative marks for those particular headings/sub-headings.<br>\n",
    "\n",
    "The actual marks for each task are specified within the tasks themselves.\n",
    "\n",
    "For example, marks given with heading *2* or sub-heading *2.1* are the cumulative marks, for your reference only. <br>\n",
    "\n",
    "The marks you will receive for completing tasks are given with the tasks.\n",
    "\n",
    "Suppose the marks for two tasks are: 3 marks for 2.1.1 and 2 marks for 3.2.2, or\n",
    "* 2.1.1 [3 marks]\n",
    "* 3.2.2 [2 marks]\n",
    "\n",
    "then, you will earn 3 marks for completing task 2.1.1 and 2 marks for completing task 3.2.2.\n"
   ]
  },
  {
   "cell_type": "markdown",
   "metadata": {
    "id": "YdQjht7dUiHt"
   },
   "source": [
    "---"
   ]
  },
  {
   "cell_type": "markdown",
   "metadata": {
    "id": "0eaCZjHIvfuI"
   },
   "source": [
    "## Data Understanding\n",
    "The yellow taxi trip records include fields capturing pick-up and drop-off dates/times, pick-up and drop-off locations, trip distances, itemized fares, rate types, payment types, and driver-reported passenger counts.\n",
    "\n",
    "The data is stored in Parquet format (*.parquet*). The dataset is from 2009 to 2024. However, for this assignment, we will only be using the data from 2023.\n",
    "\n",
    "The data for each month is present in a different parquet file. You will get twelve files for each of the months in 2023.\n",
    "\n",
    "The data was collected and provided to the NYC Taxi and Limousine Commission (TLC) by technology providers like vendors and taxi hailing apps. <br>\n",
    "\n",
    "You can find the link to the TLC trip records page here: https://www.nyc.gov/site/tlc/about/tlc-trip-record-data.page"
   ]
  },
  {
   "cell_type": "markdown",
   "metadata": {
    "id": "LI6qC5IDxZU1",
    "jp-MarkdownHeadingCollapsed": true
   },
   "source": [
    "###  Data Description\n",
    "You can find the data description here: [Data Dictionary](https://www.nyc.gov/assets/tlc/downloads/pdf/data_dictionary_trip_records_yellow.pdf)"
   ]
  },
  {
   "cell_type": "markdown",
   "metadata": {
    "id": "FafCzrDuxHg2"
   },
   "source": [
    "**Trip Records**\n",
    "\n",
    "\n",
    "\n",
    "|Field Name       |description |\n",
    "|:----------------|:-----------|\n",
    "| VendorID | A code indicating the TPEP provider that provided the record. <br> 1= Creative Mobile Technologies, LLC; <br> 2= VeriFone Inc. |\n",
    "| tpep_pickup_datetime | The date and time when the meter was engaged.  |\n",
    "| tpep_dropoff_datetime | The date and time when the meter was disengaged.   |\n",
    "| Passenger_count | The number of passengers in the vehicle. <br> This is a driver-entered value. |\n",
    "| Trip_distance | The elapsed trip distance in miles reported by the taximeter. |\n",
    "| PULocationID | TLC Taxi Zone in which the taximeter was engaged |\n",
    "| DOLocationID | TLC Taxi Zone in which the taximeter was disengaged |\n",
    "|RateCodeID |The final rate code in effect at the end of the trip.<br> 1 = Standard rate <br> 2 = JFK <br> 3 = Newark <br>4 = Nassau or Westchester <br>5 = Negotiated fare <br>6 = Group ride |\n",
    "|Store_and_fwd_flag |This flag indicates whether the trip record was held in vehicle memory before sending to the vendor, aka “store and forward,” because the vehicle did not have a connection to the server.  <br>Y= store and forward trip <br>N= not a store and forward trip |\n",
    "|Payment_type| A numeric code signifying how the passenger paid for the trip. <br> 1 = Credit card <br>2 = Cash <br>3 = No charge <br>4 = Dispute <br>5 = Unknown <br>6 = Voided trip |\n",
    "|Fare_amount| The time-and-distance fare calculated by the meter. <br>Extra Miscellaneous extras and surcharges.  Currently, this only includes the 0.50 and 1 USD rush hour and overnight charges. |\n",
    "|MTA_tax |0.50 USD MTA tax that is automatically triggered based on the metered rate in use. |\n",
    "|Improvement_surcharge | 0.30 USD improvement surcharge assessed trips at the flag drop. The improvement surcharge began being levied in 2015. |\n",
    "|Tip_amount |Tip amount – This field is automatically populated for credit card tips. Cash tips are not included. |\n",
    "| Tolls_amount | Total amount of all tolls paid in trip.  |\n",
    "| total_amount | The total amount charged to passengers. Does not include cash tips. |\n",
    "|Congestion_Surcharge |Total amount collected in trip for NYS congestion surcharge. |\n",
    "| Airport_fee | 1.25 USD for pick up only at LaGuardia and John F. Kennedy Airports|\n",
    "\n",
    "Although the amounts of extra charges and taxes applied are specified in the data dictionary, you will see that some cases have different values of these charges in the actual data."
   ]
  },
  {
   "cell_type": "markdown",
   "metadata": {
    "id": "mL-FWYFnVEdE"
   },
   "source": [
    "**Taxi Zones**\n",
    "\n",
    "Each of the trip records contains a field corresponding to the location of the pickup or drop-off of the trip, populated by numbers ranging from 1-263.\n",
    "\n",
    "These numbers correspond to taxi zones, which may be downloaded as a table or map/shapefile and matched to the trip records using a join.\n",
    "\n",
    "This is covered in more detail in later sections."
   ]
  },
  {
   "cell_type": "markdown",
   "metadata": {
    "id": "z66W3s51U0gF"
   },
   "source": [
    "---"
   ]
  },
  {
   "cell_type": "markdown",
   "metadata": {
    "id": "Kw-WRzBfyS7j",
    "jp-MarkdownHeadingCollapsed": true
   },
   "source": [
    "## **1** Data Preparation\n",
    "\n",
    "<font color = red>[5 marks]</font> <br>"
   ]
  },
  {
   "cell_type": "markdown",
   "metadata": {
    "id": "nM2X-s6lycvQ",
    "jp-MarkdownHeadingCollapsed": true
   },
   "source": [
    "### Import Libraries"
   ]
  },
  {
   "cell_type": "code",
   "execution_count": 25,
   "metadata": {
    "id": "juReqsAzEdW3"
   },
   "outputs": [],
   "source": [
    "# Import warnings\n",
    "import warnings\n"
   ]
  },
  {
   "cell_type": "code",
   "execution_count": 4,
   "metadata": {
    "id": "3XZjOlJiy1dr"
   },
   "outputs": [],
   "source": [
    "# Import the libraries you will be using for analysis\n",
    "import numpy as np\n",
    "import pandas as pd\n",
    "import matplotlib.pyplot as plt\n",
    "import seaborn as sns\n"
   ]
  },
  {
   "cell_type": "code",
   "execution_count": 8,
   "metadata": {
    "id": "NsH5LNrSgW9q"
   },
   "outputs": [
    {
     "name": "stdout",
     "output_type": "stream",
     "text": [
      "numpy version: 1.26.4\n",
      "pandas version: 2.2.2\n",
      "matplotlib version: 3.9.2\n",
      "seaborn version: 0.13.2\n"
     ]
    }
   ],
   "source": [
    "# Recommended versions\n",
    "# numpy version: 1.26.4\n",
    "# pandas version: 2.2.2\n",
    "# matplotlib version: 3.10.0\n",
    "# seaborn version: 0.13.2\n",
    "\n",
    "# Check versions\n",
    "print(\"numpy version:\", np.__version__)\n",
    "print(\"pandas version:\", pd.__version__)\n",
    "print(\"matplotlib version:\", plt.matplotlib.__version__)\n",
    "print(\"seaborn version:\", sns.__version__)"
   ]
  },
  {
   "cell_type": "markdown",
   "metadata": {
    "id": "NgHgbPIepaYl",
    "jp-MarkdownHeadingCollapsed": true
   },
   "source": [
    "### **1.1** Load the dataset\n",
    "<font color = red>[5 marks]</font> <br>"
   ]
  },
  {
   "cell_type": "markdown",
   "metadata": {
    "id": "KrGluF_gpeHs"
   },
   "source": [
    "You will see twelve files, one for each month.\n",
    "\n",
    "To read parquet files with Pandas, you have to follow a similar syntax as that for CSV files.\n",
    "\n",
    "`df = pd.read_parquet('file.parquet')`"
   ]
  },
  {
   "cell_type": "code",
   "execution_count": 122,
   "metadata": {
    "id": "kIpIsuSSzCp9"
   },
   "outputs": [
    {
     "name": "stdout",
     "output_type": "stream",
     "text": [
      "Empty DataFrame\n",
      "Columns: [VendorID, tpep_pickup_datetime, tpep_dropoff_datetime, passenger_count, trip_distance, RatecodeID, store_and_fwd_flag, PULocationID, DOLocationID, payment_type, fare_amount, extra, mta_tax, tip_amount, tolls_amount, improvement_surcharge, total_amount, congestion_surcharge, airport_fee]\n",
      "Index: []\n"
     ]
    }
   ],
   "source": [
    "# Try loading one file\n",
    "\n",
    "df = pd.read_parquet(r'C:\\Users\\admin\\Downloads\\Datasets and Dictionary-NYC\\Datasets and Dictionary\\trip_records\\2023-1.parquet')\n",
    "print(df[df['fare_amount']<0])"
   ]
  },
  {
   "cell_type": "markdown",
   "metadata": {
    "id": "eh-keWIyqcyr"
   },
   "source": [
    "How many rows are there? Do you think handling such a large number of rows is computationally feasible when we have to combine the data for all twelve months into one?\n",
    "\n",
    "To handle this, we need to sample a fraction of data from each of the files. How to go about that? Think of a way to select only some portion of the data from each month's file that accurately represents the trends."
   ]
  },
  {
   "cell_type": "markdown",
   "metadata": {
    "id": "zHx7lh_3QGmj",
    "jp-MarkdownHeadingCollapsed": true
   },
   "source": [
    "#### Sampling the Data\n",
    "> One way is to take a small percentage of entries for pickup in every hour of a date. So, for all the days in a month, we can iterate through the hours and select 5% values randomly from those. Use `tpep_pickup_datetime` for this. Separate date and hour from the datetime values and then for each date, select some fraction of trips for each of the 24 hours.\n",
    "\n",
    "To sample data, you can use the `sample()` method. Follow this syntax:\n",
    "\n",
    "```Python\n",
    "# sampled_data is an empty DF to keep appending sampled data of each hour\n",
    "# hour_data is the DF of entries for an hour 'X' on a date 'Y'\n",
    "\n",
    "sample = hour_data.sample(frac = 0.05, random_state = 42)\n",
    "# sample 0.05 of the hour_data\n",
    "# random_state is just a seed for sampling, you can define it yourself\n",
    "\n",
    "sampled_data = pd.concat([sampled_data, sample]) # adding data for this hour to the DF\n",
    "```\n",
    "\n",
    "This *sampled_data* will contain 5% values selected at random from each hour.\n",
    "\n",
    "Note that the code given above is only the part that will be used for sampling and not the complete code required for sampling and combining the data files.\n",
    "\n",
    "Keep in mind that you sample by date AND hour, not just hour. (Why?)"
   ]
  },
  {
   "cell_type": "markdown",
   "metadata": {
    "id": "3zog80nsqvKp"
   },
   "source": [
    "---"
   ]
  },
  {
   "cell_type": "markdown",
   "metadata": {
    "id": "Fp24-wpQrlC5"
   },
   "source": [
    "**1.1.1** <font color = red>[5 marks]</font> <br>\n",
    "Figure out how to sample and combine the files."
   ]
  },
  {
   "cell_type": "markdown",
   "metadata": {
    "id": "vRGOnciGOvq0"
   },
   "source": [
    "**Note:** It is not mandatory to use the method specified above. While sampling, you only need to make sure that your sampled data represents the overall data of all the months accurately."
   ]
  },
  {
   "cell_type": "code",
   "execution_count": null,
   "metadata": {
    "id": "3cpuzPFvP2iC"
   },
   "outputs": [],
   "source": [
    "# Sample the data\n",
    "# It is recommmended to not load all the files at once to avoid memory overload"
   ]
  },
  {
   "cell_type": "code",
   "execution_count": null,
   "metadata": {
    "id": "h3x5bCWmarTO"
   },
   "outputs": [],
   "source": [
    "# from google.colab import drive\n",
    "# drive.mount('/content/drive')"
   ]
  },
  {
   "cell_type": "code",
   "execution_count": 104,
   "metadata": {
    "id": "t1EXP0PHzPs0"
   },
   "outputs": [
    {
     "name": "stdout",
     "output_type": "stream",
     "text": [
      "Error reading file sampled_Date.csv: Could not open Parquet input source '<Buffer>': Parquet magic bytes not found in footer. Either the file is corrupted or this is not a parquet file.\n",
      "   VendorID tpep_pickup_datetime tpep_dropoff_datetime  passenger_count  \\\n",
      "0         2  2023-01-01 00:55:17   2023-01-01 01:03:27              1.0   \n",
      "1         2  2023-01-01 00:29:29   2023-01-01 00:35:05              1.0   \n",
      "2         2  2023-01-01 00:41:54   2023-01-01 01:38:40              1.0   \n",
      "3         2  2023-01-01 00:49:37   2023-01-01 01:05:42              1.0   \n",
      "4         2  2023-01-01 00:04:29   2023-01-01 00:04:33              1.0   \n",
      "\n",
      "   trip_distance  RatecodeID store_and_fwd_flag  PULocationID  DOLocationID  \\\n",
      "0           2.14         1.0                  N           264           264   \n",
      "1           0.98         1.0                  N           113            79   \n",
      "2           7.56         1.0                  N            48           189   \n",
      "3           3.44         1.0                  N           238           170   \n",
      "4           0.00         5.0                  N           122           122   \n",
      "\n",
      "   payment_type  ...  mta_tax  tip_amount  tolls_amount  \\\n",
      "0             2  ...      0.5        0.00           0.0   \n",
      "1             1  ...      0.5        1.00           0.0   \n",
      "2             1  ...      0.5       11.82           0.0   \n",
      "3             1  ...      0.5        2.34           0.0   \n",
      "4             1  ...      0.5       10.00           0.0   \n",
      "\n",
      "   improvement_surcharge  total_amount  congestion_surcharge  airport_fee  \\\n",
      "0                    1.0         16.40                   2.5          0.0   \n",
      "1                    1.0         13.90                   2.5          0.0   \n",
      "2                    1.0         70.92                   2.5          0.0   \n",
      "3                    1.0         25.74                   2.5          0.0   \n",
      "4                    1.0         81.50                   0.0          0.0   \n",
      "\n",
      "         date  hour Airport_fee  \n",
      "0  2023-01-01     0         NaN  \n",
      "1  2023-01-01     0         NaN  \n",
      "2  2023-01-01     0         NaN  \n",
      "3  2023-01-01     0         NaN  \n",
      "4  2023-01-01     0         NaN  \n",
      "\n",
      "[5 rows x 22 columns]\n",
      "Total sampled rows: 1991327\n"
     ]
    }
   ],
   "source": [
    "import os\n",
    "import pandas as pd\n",
    "\n",
    "# Change working directory\n",
    "os.chdir(r'C:\\Users\\admin\\Downloads\\Datasets and Dictionary-NYC\\Datasets and Dictionary\\trip_records')\n",
    "\n",
    "# List all parquet files\n",
    "file_list = os.listdir()\n",
    "\n",
    "# Initialise final dataframe to collect all sampled data\n",
    "final_df = pd.DataFrame()\n",
    "\n",
    "# Loop through each monthly file\n",
    "for file_name in file_list:\n",
    "    try:\n",
    "        file_path = os.path.join(os.getcwd(), file_name)\n",
    "        df = pd.read_parquet(file_path)\n",
    "\n",
    "        # Ensure datetime format\n",
    "        df['tpep_pickup_datetime'] = pd.to_datetime(df['tpep_pickup_datetime'])\n",
    "\n",
    "        # Extract date and hour\n",
    "        df['date'] = df['tpep_pickup_datetime'].dt.date\n",
    "        df['hour'] = df['tpep_pickup_datetime'].dt.hour\n",
    "\n",
    "        # Split into negatives and positives\n",
    "        negatives = df[df['fare_amount'] < 0]\n",
    "        positives = df[df['fare_amount'] >= 0]\n",
    "\n",
    "        # Sample 5% from each hour of positives\n",
    "        sampled_data = []\n",
    "        for date in positives['date'].unique():\n",
    "            df_day = positives[positives['date'] == date]\n",
    "            for hour in range(24):\n",
    "                df_hour = df_day[df_day['hour'] == hour]\n",
    "                if not df_hour.empty:\n",
    "                    sampled_hour = df_hour.sample(frac=0.05, random_state=1)\n",
    "                    sampled_data.append(sampled_hour)\n",
    "\n",
    "        # Add all negatives (so they’re not missed in sampling)\n",
    "        if not negatives.empty:\n",
    "            sampled_data.append(negatives)\n",
    "\n",
    "        # Combine for this month\n",
    "        if sampled_data:\n",
    "            month_sampled_df = pd.concat(sampled_data, ignore_index=True)\n",
    "            final_df = pd.concat([final_df, month_sampled_df], ignore_index=True)\n",
    "\n",
    "    except Exception as e:\n",
    "        print(f\"Error reading file {file_name}: {e}\")\n",
    "\n",
    "# Print a small preview of the final result\n",
    "print(final_df.head())\n",
    "print(f\"Total sampled rows: {len(final_df)}\")\n"
   ]
  },
  {
   "cell_type": "markdown",
   "metadata": {
    "id": "Sej6pZkzw2AK"
   },
   "source": [
    "After combining the data files into one DataFrame, convert the new DataFrame to a CSV or parquet file and store it to use directly.\n",
    "\n",
    "Ideally, you can try keeping the total entries to around 250,000 to 300,000."
   ]
  },
  {
   "cell_type": "code",
   "execution_count": 106,
   "metadata": {
    "id": "okaVAsdPxJow"
   },
   "outputs": [],
   "source": [
    "# Store the df in csv/parquet\n",
    "final_df.to_parquet(r'C:\\Users\\admin\\Downloads\\Datasets and Dictionary-NYC\\Datasets and Dictionary\\output\\sampled_Data.parquet')\n",
    "final_df.to_csv(r'C:\\Users\\admin\\Downloads\\Datasets and Dictionary-NYC\\Datasets and Dictionary\\output\\sampled_Data.csv')"
   ]
  },
  {
   "cell_type": "markdown",
   "metadata": {
    "id": "QaOS3H9izZ0N",
    "jp-MarkdownHeadingCollapsed": true
   },
   "source": [
    "## **2** Data Cleaning\n",
    "<font color = red>[30 marks]</font> <br>"
   ]
  },
  {
   "cell_type": "markdown",
   "metadata": {
    "id": "5y3PKWqhxRA9"
   },
   "source": [
    "Now we can load the new data directly."
   ]
  },
  {
   "cell_type": "code",
   "execution_count": 108,
   "metadata": {
    "id": "FOuOL0SDxQHd"
   },
   "outputs": [],
   "source": [
    "# Load the new data file\n",
    "new_data_df=pd.read_parquet(r'C:\\Users\\admin\\Downloads\\Datasets and Dictionary-NYC\\Datasets and Dictionary\\output\\sampled_Data.parquet')\n"
   ]
  },
  {
   "cell_type": "code",
   "execution_count": 110,
   "metadata": {
    "id": "fbzmFKyn1780"
   },
   "outputs": [
    {
     "data": {
      "text/html": [
       "<div>\n",
       "<style scoped>\n",
       "    .dataframe tbody tr th:only-of-type {\n",
       "        vertical-align: middle;\n",
       "    }\n",
       "\n",
       "    .dataframe tbody tr th {\n",
       "        vertical-align: top;\n",
       "    }\n",
       "\n",
       "    .dataframe thead th {\n",
       "        text-align: right;\n",
       "    }\n",
       "</style>\n",
       "<table border=\"1\" class=\"dataframe\">\n",
       "  <thead>\n",
       "    <tr style=\"text-align: right;\">\n",
       "      <th></th>\n",
       "      <th>VendorID</th>\n",
       "      <th>tpep_pickup_datetime</th>\n",
       "      <th>tpep_dropoff_datetime</th>\n",
       "      <th>passenger_count</th>\n",
       "      <th>trip_distance</th>\n",
       "      <th>RatecodeID</th>\n",
       "      <th>store_and_fwd_flag</th>\n",
       "      <th>PULocationID</th>\n",
       "      <th>DOLocationID</th>\n",
       "      <th>payment_type</th>\n",
       "      <th>...</th>\n",
       "      <th>mta_tax</th>\n",
       "      <th>tip_amount</th>\n",
       "      <th>tolls_amount</th>\n",
       "      <th>improvement_surcharge</th>\n",
       "      <th>total_amount</th>\n",
       "      <th>congestion_surcharge</th>\n",
       "      <th>airport_fee</th>\n",
       "      <th>date</th>\n",
       "      <th>hour</th>\n",
       "      <th>Airport_fee</th>\n",
       "    </tr>\n",
       "  </thead>\n",
       "  <tbody>\n",
       "    <tr>\n",
       "      <th>0</th>\n",
       "      <td>2</td>\n",
       "      <td>2023-01-01 00:55:17</td>\n",
       "      <td>2023-01-01 01:03:27</td>\n",
       "      <td>1.0</td>\n",
       "      <td>2.14</td>\n",
       "      <td>1.0</td>\n",
       "      <td>N</td>\n",
       "      <td>264</td>\n",
       "      <td>264</td>\n",
       "      <td>2</td>\n",
       "      <td>...</td>\n",
       "      <td>0.5</td>\n",
       "      <td>0.00</td>\n",
       "      <td>0.0</td>\n",
       "      <td>1.0</td>\n",
       "      <td>16.40</td>\n",
       "      <td>2.5</td>\n",
       "      <td>0.0</td>\n",
       "      <td>2023-01-01</td>\n",
       "      <td>0</td>\n",
       "      <td>NaN</td>\n",
       "    </tr>\n",
       "    <tr>\n",
       "      <th>1</th>\n",
       "      <td>2</td>\n",
       "      <td>2023-01-01 00:29:29</td>\n",
       "      <td>2023-01-01 00:35:05</td>\n",
       "      <td>1.0</td>\n",
       "      <td>0.98</td>\n",
       "      <td>1.0</td>\n",
       "      <td>N</td>\n",
       "      <td>113</td>\n",
       "      <td>79</td>\n",
       "      <td>1</td>\n",
       "      <td>...</td>\n",
       "      <td>0.5</td>\n",
       "      <td>1.00</td>\n",
       "      <td>0.0</td>\n",
       "      <td>1.0</td>\n",
       "      <td>13.90</td>\n",
       "      <td>2.5</td>\n",
       "      <td>0.0</td>\n",
       "      <td>2023-01-01</td>\n",
       "      <td>0</td>\n",
       "      <td>NaN</td>\n",
       "    </tr>\n",
       "    <tr>\n",
       "      <th>2</th>\n",
       "      <td>2</td>\n",
       "      <td>2023-01-01 00:41:54</td>\n",
       "      <td>2023-01-01 01:38:40</td>\n",
       "      <td>1.0</td>\n",
       "      <td>7.56</td>\n",
       "      <td>1.0</td>\n",
       "      <td>N</td>\n",
       "      <td>48</td>\n",
       "      <td>189</td>\n",
       "      <td>1</td>\n",
       "      <td>...</td>\n",
       "      <td>0.5</td>\n",
       "      <td>11.82</td>\n",
       "      <td>0.0</td>\n",
       "      <td>1.0</td>\n",
       "      <td>70.92</td>\n",
       "      <td>2.5</td>\n",
       "      <td>0.0</td>\n",
       "      <td>2023-01-01</td>\n",
       "      <td>0</td>\n",
       "      <td>NaN</td>\n",
       "    </tr>\n",
       "    <tr>\n",
       "      <th>3</th>\n",
       "      <td>2</td>\n",
       "      <td>2023-01-01 00:49:37</td>\n",
       "      <td>2023-01-01 01:05:42</td>\n",
       "      <td>1.0</td>\n",
       "      <td>3.44</td>\n",
       "      <td>1.0</td>\n",
       "      <td>N</td>\n",
       "      <td>238</td>\n",
       "      <td>170</td>\n",
       "      <td>1</td>\n",
       "      <td>...</td>\n",
       "      <td>0.5</td>\n",
       "      <td>2.34</td>\n",
       "      <td>0.0</td>\n",
       "      <td>1.0</td>\n",
       "      <td>25.74</td>\n",
       "      <td>2.5</td>\n",
       "      <td>0.0</td>\n",
       "      <td>2023-01-01</td>\n",
       "      <td>0</td>\n",
       "      <td>NaN</td>\n",
       "    </tr>\n",
       "    <tr>\n",
       "      <th>4</th>\n",
       "      <td>2</td>\n",
       "      <td>2023-01-01 00:04:29</td>\n",
       "      <td>2023-01-01 00:04:33</td>\n",
       "      <td>1.0</td>\n",
       "      <td>0.00</td>\n",
       "      <td>5.0</td>\n",
       "      <td>N</td>\n",
       "      <td>122</td>\n",
       "      <td>122</td>\n",
       "      <td>1</td>\n",
       "      <td>...</td>\n",
       "      <td>0.5</td>\n",
       "      <td>10.00</td>\n",
       "      <td>0.0</td>\n",
       "      <td>1.0</td>\n",
       "      <td>81.50</td>\n",
       "      <td>0.0</td>\n",
       "      <td>0.0</td>\n",
       "      <td>2023-01-01</td>\n",
       "      <td>0</td>\n",
       "      <td>NaN</td>\n",
       "    </tr>\n",
       "  </tbody>\n",
       "</table>\n",
       "<p>5 rows × 22 columns</p>\n",
       "</div>"
      ],
      "text/plain": [
       "   VendorID tpep_pickup_datetime tpep_dropoff_datetime  passenger_count  \\\n",
       "0         2  2023-01-01 00:55:17   2023-01-01 01:03:27              1.0   \n",
       "1         2  2023-01-01 00:29:29   2023-01-01 00:35:05              1.0   \n",
       "2         2  2023-01-01 00:41:54   2023-01-01 01:38:40              1.0   \n",
       "3         2  2023-01-01 00:49:37   2023-01-01 01:05:42              1.0   \n",
       "4         2  2023-01-01 00:04:29   2023-01-01 00:04:33              1.0   \n",
       "\n",
       "   trip_distance  RatecodeID store_and_fwd_flag  PULocationID  DOLocationID  \\\n",
       "0           2.14         1.0                  N           264           264   \n",
       "1           0.98         1.0                  N           113            79   \n",
       "2           7.56         1.0                  N            48           189   \n",
       "3           3.44         1.0                  N           238           170   \n",
       "4           0.00         5.0                  N           122           122   \n",
       "\n",
       "   payment_type  ...  mta_tax  tip_amount  tolls_amount  \\\n",
       "0             2  ...      0.5        0.00           0.0   \n",
       "1             1  ...      0.5        1.00           0.0   \n",
       "2             1  ...      0.5       11.82           0.0   \n",
       "3             1  ...      0.5        2.34           0.0   \n",
       "4             1  ...      0.5       10.00           0.0   \n",
       "\n",
       "   improvement_surcharge  total_amount  congestion_surcharge  airport_fee  \\\n",
       "0                    1.0         16.40                   2.5          0.0   \n",
       "1                    1.0         13.90                   2.5          0.0   \n",
       "2                    1.0         70.92                   2.5          0.0   \n",
       "3                    1.0         25.74                   2.5          0.0   \n",
       "4                    1.0         81.50                   0.0          0.0   \n",
       "\n",
       "         date  hour Airport_fee  \n",
       "0  2023-01-01     0         NaN  \n",
       "1  2023-01-01     0         NaN  \n",
       "2  2023-01-01     0         NaN  \n",
       "3  2023-01-01     0         NaN  \n",
       "4  2023-01-01     0         NaN  \n",
       "\n",
       "[5 rows x 22 columns]"
      ]
     },
     "execution_count": 110,
     "metadata": {},
     "output_type": "execute_result"
    }
   ],
   "source": [
    "new_data_df.head()"
   ]
  },
  {
   "cell_type": "code",
   "execution_count": 112,
   "metadata": {
    "id": "FH83U4A49ErC"
   },
   "outputs": [
    {
     "name": "stdout",
     "output_type": "stream",
     "text": [
      "<class 'pandas.core.frame.DataFrame'>\n",
      "RangeIndex: 1991327 entries, 0 to 1991326\n",
      "Data columns (total 22 columns):\n",
      " #   Column                 Dtype         \n",
      "---  ------                 -----         \n",
      " 0   VendorID               int64         \n",
      " 1   tpep_pickup_datetime   datetime64[us]\n",
      " 2   tpep_dropoff_datetime  datetime64[us]\n",
      " 3   passenger_count        float64       \n",
      " 4   trip_distance          float64       \n",
      " 5   RatecodeID             float64       \n",
      " 6   store_and_fwd_flag     object        \n",
      " 7   PULocationID           int64         \n",
      " 8   DOLocationID           int64         \n",
      " 9   payment_type           int64         \n",
      " 10  fare_amount            float64       \n",
      " 11  extra                  float64       \n",
      " 12  mta_tax                float64       \n",
      " 13  tip_amount             float64       \n",
      " 14  tolls_amount           float64       \n",
      " 15  improvement_surcharge  float64       \n",
      " 16  total_amount           float64       \n",
      " 17  congestion_surcharge   float64       \n",
      " 18  airport_fee            float64       \n",
      " 19  date                   object        \n",
      " 20  hour                   int32         \n",
      " 21  Airport_fee            float64       \n",
      "dtypes: datetime64[us](2), float64(13), int32(1), int64(4), object(2)\n",
      "memory usage: 326.6+ MB\n"
     ]
    }
   ],
   "source": [
    "new_data_df.info()"
   ]
  },
  {
   "cell_type": "markdown",
   "metadata": {
    "id": "HZvPSwJx0S3K",
    "jp-MarkdownHeadingCollapsed": true
   },
   "source": [
    "#### **2.1** Fixing Columns\n",
    "<font color = red>[10 marks]</font> <br>\n",
    "\n",
    "Fix/drop any columns as you seem necessary in the below sections"
   ]
  },
  {
   "cell_type": "markdown",
   "metadata": {
    "id": "358takCd2FiM"
   },
   "source": [
    "**2.1.1** <font color = red>[2 marks]</font> <br>\n",
    "\n",
    "Fix the index and drop unnecessary columns"
   ]
  },
  {
   "cell_type": "code",
   "execution_count": 114,
   "metadata": {
    "id": "KHHFyZxa2PEM"
   },
   "outputs": [],
   "source": [
    "# Fix the index and drop any columns that are not needed\n",
    "columns_to_drop = [ 'date', 'hour', 'store_and_fwd_flag']\n",
    "final_df_cleaned = new_data_df.drop(columns=columns_to_drop, errors='ignore')\n",
    "\n",
    "final_df_cleaned.reset_index(drop=True, inplace=True)\n"
   ]
  },
  {
   "cell_type": "markdown",
   "metadata": {
    "id": "TIFmxvIT2wsn"
   },
   "source": [
    "**2.1.2** <font color = red>[3 marks]</font> <br>\n",
    "There are two airport fee columns. This is possibly an error in naming columns. Let's see whether these can be combined into a single column."
   ]
  },
  {
   "cell_type": "code",
   "execution_count": 116,
   "metadata": {
    "id": "rmtgnb1x6TrV"
   },
   "outputs": [],
   "source": [
    "# Combine the two airport fee columns\n",
    "final_df_cleaned['airport_fee'] = final_df_cleaned[['airport_fee', 'Airport_fee']].sum(axis=1, skipna=True)\n",
    "\n",
    "# Drop the redundant column\n",
    "final_df_cleaned.drop(columns=['Airport_fee'], inplace=True)\n",
    "\n",
    "# Optional: reset index after combining and dropping\n",
    "final_df_cleaned.reset_index(drop=True, inplace=True)\n"
   ]
  },
  {
   "cell_type": "markdown",
   "metadata": {
    "id": "1g4AHG7mOYgP"
   },
   "source": [
    "**2.1.3** <font color = red>[5 marks]</font> <br>\n",
    "Fix columns with negative (monetary) values"
   ]
  },
  {
   "cell_type": "code",
   "execution_count": 130,
   "metadata": {
    "id": "nBsMT2MII1Hv",
    "scrolled": true
   },
   "outputs": [
    {
     "name": "stdout",
     "output_type": "stream",
     "text": [
      "Total rows with any negative monetary value: 96\n"
     ]
    }
   ],
   "source": [
    "# check where values of fare amount are negative\n",
    "\n",
    "# negative_fares = final_df_cleaned[final_df_cleaned['mta_tax'] < 0]\n",
    "# print(f\"Total rows with negative fare: {len(negative_fares)}\")\n",
    "monetary_columns = ['fare_amount', 'mta_tax', 'tip_amount', 'tolls_amount', \n",
    "                    'extra', 'improvement_surcharge', 'total_amount', \n",
    "                    'congestion_surcharge', 'airport_fee']\n",
    "\n",
    "# Find rows with any negative values in these columns\n",
    "negative_rows = final_df_cleaned[(final_df_cleaned[monetary_columns] < 0).any(axis=1)]\n",
    "\n",
    "print(f\"Total rows with any negative monetary value: {len(negative_rows)}\")"
   ]
  },
  {
   "cell_type": "markdown",
   "metadata": {
    "id": "JNKpDtTh8awi"
   },
   "source": [
    "Did you notice something different in the `RatecodeID` column for above records?"
   ]
  },
  {
   "cell_type": "code",
   "execution_count": 134,
   "metadata": {
    "id": "9eVrrj7c3kjq"
   },
   "outputs": [
    {
     "name": "stdout",
     "output_type": "stream",
     "text": [
      "[2. 1. 5.]\n"
     ]
    }
   ],
   "source": [
    "# Analyse RatecodeID for the negative fare amounts\n",
    "\n",
    "print(negative_rows['RatecodeID'].unique())"
   ]
  },
  {
   "cell_type": "code",
   "execution_count": 136,
   "metadata": {
    "id": "Ruyh2vaCRNxr"
   },
   "outputs": [
    {
     "name": "stdout",
     "output_type": "stream",
     "text": [
      "Columns with negative values:\n",
      "['extra', 'mta_tax', 'improvement_surcharge', 'total_amount', 'congestion_surcharge', 'airport_fee']\n"
     ]
    }
   ],
   "source": [
    "# Find which columns have negative values\n",
    "# Check for negative values in all columns\n",
    "negative_columns = final_df_cleaned.select_dtypes(include='number').lt(0).any()\n",
    "\n",
    "# Filter to only show columns with negative values\n",
    "columns_with_negatives = negative_columns[negative_columns].index.tolist()\n",
    "\n",
    "print(\"Columns with negative values:\")\n",
    "print(columns_with_negatives)\n",
    "\n"
   ]
  },
  {
   "cell_type": "code",
   "execution_count": 140,
   "metadata": {
    "id": "mPehZ6PJg3_J"
   },
   "outputs": [],
   "source": [
    "# fix these negative values\n",
    "# List of monetary columns typically expected to be non-negative\n",
    "monetary_columns = [\n",
    "    'fare_amount', 'extra', 'mta_tax', 'tip_amount', 'tolls_amount',\n",
    "    'improvement_surcharge', 'total_amount', 'congestion_surcharge', 'airport_fee'\n",
    "]\n",
    "\n",
    "# Replace all negative values in those columns with 0\n",
    "final_df_cleaned[monetary_columns] = final_df_cleaned[monetary_columns].clip(lower=0)\n",
    "\n"
   ]
  },
  {
   "cell_type": "markdown",
   "metadata": {
    "id": "x2hakCCy6wXI",
    "jp-MarkdownHeadingCollapsed": true
   },
   "source": [
    "### **2.2** Handling Missing Values\n",
    "<font color = red>[10 marks]</font> <br>"
   ]
  },
  {
   "cell_type": "markdown",
   "metadata": {
    "id": "-K-QNPDVVhzR"
   },
   "source": [
    "**2.2.1**  <font color = red>[2 marks]</font> <br>\n",
    "Find the proportion of missing values in each column\n",
    "\n",
    "\n"
   ]
  },
  {
   "cell_type": "code",
   "execution_count": 148,
   "metadata": {
    "id": "tfTa9cct6Gec"
   },
   "outputs": [
    {
     "name": "stdout",
     "output_type": "stream",
     "text": [
      "congestion_surcharge    0.032394\n",
      "passenger_count         0.032394\n",
      "RatecodeID              0.032394\n",
      "dtype: float64\n"
     ]
    }
   ],
   "source": [
    "# Find the proportion of missing values in each column\n",
    "\n",
    "missing_proportions = final_df_cleaned.isnull().mean().sort_values(ascending=False)\n",
    "# print(missing_proportions)\n",
    "print(missing_proportions[missing_proportions > 0])"
   ]
  },
  {
   "cell_type": "markdown",
   "metadata": {
    "id": "-UdUl6AL_-E_"
   },
   "source": [
    "**2.2.2**  <font color = red>[3 marks]</font> <br>\n",
    "Handling missing values in `passenger_count`"
   ]
  },
  {
   "cell_type": "code",
   "execution_count": 160,
   "metadata": {
    "id": "JmNmhr4q8Xys"
   },
   "outputs": [
    {
     "name": "stdout",
     "output_type": "stream",
     "text": [
      "Empty DataFrame\n",
      "Columns: [VendorID, tpep_pickup_datetime, tpep_dropoff_datetime, passenger_count, trip_distance, RatecodeID, PULocationID, DOLocationID, payment_type, fare_amount, extra, mta_tax, tip_amount, tolls_amount, improvement_surcharge, total_amount, congestion_surcharge, airport_fee]\n",
      "Index: []\n",
      "Total missing passenger_count rows: 0\n"
     ]
    }
   ],
   "source": [
    "# Display the rows with null values\n",
    "missing_passengers = final_df_cleaned[final_df_cleaned['passenger_count'].isnull()]\n",
    "print(missing_passengers)\n",
    "print(f\"Total missing passenger_count rows: {len(missing_passengers)}\")\n",
    "\n",
    "# Impute NaN values in 'passenger_count'\n",
    "final_df_cleaned['passenger_count'] = final_df_cleaned['passenger_count'].fillna(1)"
   ]
  },
  {
   "cell_type": "markdown",
   "metadata": {
    "id": "hIPCyR6UCw0c"
   },
   "source": [
    "Did you find zeroes in passenger_count? Handle these."
   ]
  },
  {
   "cell_type": "markdown",
   "metadata": {
    "id": "IUr4fwkjBUTQ"
   },
   "source": [
    "**2.2.3**  <font color = red>[2 marks]</font> <br>\n",
    "Handle missing values in `RatecodeID`"
   ]
  },
  {
   "cell_type": "code",
   "execution_count": 185,
   "metadata": {
    "id": "qEgFxytzBkrB"
   },
   "outputs": [
    {
     "name": "stdout",
     "output_type": "stream",
     "text": [
      "1.0\n",
      "1.6200508505132507\n"
     ]
    }
   ],
   "source": [
    "# Fix missing values in 'RatecodeID'\n",
    "missing_ratecode = final_df_cleaned[final_df_cleaned['RatecodeID'].isnull()]\n",
    "# print(missing_ratecode)\n",
    "# mode_value = final_df_cleaned['RatecodeID'].mode()[0]\n",
    "# mean_value = final_df_cleaned['RatecodeID'].mean() \n",
    "# print(mode_value)1.0\n",
    "# print(mean_value) 1.6200508505132507\n",
    "\n",
    "\n",
    "print(f\"Missing RatecodeID values: {final_df_cleaned['RatecodeID'].isnull().sum()}\")\n",
    "final_df_cleaned['RatecodeID'] = final_df_cleaned['RatecodeID'].fillna(1)\n"
   ]
  },
  {
   "cell_type": "markdown",
   "metadata": {
    "id": "0TjHXzuODCUW"
   },
   "source": [
    "**2.2.4**  <font color = red>[3 marks]</font> <br>\n",
    "Impute NaN in `congestion_surcharge`"
   ]
  },
  {
   "cell_type": "code",
   "execution_count": 179,
   "metadata": {
    "id": "HqnabUGC3xOA"
   },
   "outputs": [
    {
     "name": "stdout",
     "output_type": "stream",
     "text": [
      "2.5\n"
     ]
    }
   ],
   "source": [
    "# handle null values in congestion_surcharge\n",
    "missing_ratecode = final_df_cleaned[final_df_cleaned['congestion_surcharge'].isnull()]\n",
    "# print(congestion_surcharge)\n",
    "# mean_value = final_df_cleaned['congestion_surcharge'].mean() -2.3\n",
    "mode_val= final_df_cleaned['congestion_surcharge'].mode()[0]\n",
    "print(mode_val)\n",
    "\n",
    "# print(f\"Missing congestion_surcharge values: {final_df_cleaned['congestion_surcharge'].isnull().sum()}\")\n",
    "final_df_cleaned['congestion_surcharge'] = final_df_cleaned['congestion_surcharge'].fillna(mode_val)\n",
    "\n",
    "\n"
   ]
  },
  {
   "cell_type": "markdown",
   "metadata": {
    "id": "4FZEdgAgUbPl"
   },
   "source": [
    "Are there missing values in other columns? Did you find NaN values in some other set of columns? Handle those missing values below."
   ]
  },
  {
   "cell_type": "code",
   "execution_count": 187,
   "metadata": {
    "id": "iDLpyqCRXa3K"
   },
   "outputs": [],
   "source": [
    "# Handle any remaining missing values\n",
    "# Numerical columns to fill with 0\n",
    "num_cols_fill_zero = ['tip_amount', 'airport_fee', 'extra', 'mta_tax', 'tolls_amount', 'improvement_surcharge']\n",
    "\n",
    "for col in num_cols_fill_zero:\n",
    "    if col in final_df_cleaned.columns:\n",
    "        final_df_cleaned[col] = final_df_cleaned[col].fillna(0)\n",
    "\n",
    "# Categorical columns to fill with mode or default\n",
    "cat_cols_fill = {\n",
    "    'store_and_fwd_flag': 'N',\n",
    "    'payment_type': final_df_cleaned['payment_type'].mode()[0] if 'payment_type' in final_df_cleaned.columns else None\n",
    "}\n",
    "\n",
    "for col, fill_value in cat_cols_fill.items():\n",
    "    if col in final_df_cleaned.columns and fill_value is not None:\n",
    "        final_df_cleaned[col] = final_df_cleaned[col].fillna(fill_value)\n",
    "\n"
   ]
  },
  {
   "cell_type": "markdown",
   "metadata": {
    "id": "2jyQyYIpCztl",
    "jp-MarkdownHeadingCollapsed": true
   },
   "source": [
    "### **2.3** Handling Outliers\n",
    "<font color = red>[10 marks]</font> <br>"
   ]
  },
  {
   "cell_type": "markdown",
   "metadata": {
    "id": "ZoVwZzuEMTHB"
   },
   "source": [
    "Before we start fixing outliers, let's perform outlier analysis."
   ]
  },
  {
   "cell_type": "code",
   "execution_count": 223,
   "metadata": {
    "id": "zHK5K6uV8XpU"
   },
   "outputs": [
    {
     "name": "stdout",
     "output_type": "stream",
     "text": [
      "payment_type\n",
      "1    1570382\n",
      "2     332524\n",
      "4      14448\n",
      "3       9283\n",
      "Name: count, dtype: int64\n"
     ]
    }
   ],
   "source": [
    "# Describe the data and check if there are any potential outliers present\n",
    "# Check for potential out of place values in various columns\n",
    "# print(final_df_cleaned.describe(include='all'))\n",
    "\n",
    "\n",
    "# Passenger count — typically between 1 and 6 or so\n",
    "# print(final_df_cleaned['passenger_count'].value_counts().sort_index())\n",
    "\n",
    "# # Trip distance — check for zeros or extremely large values\n",
    "# print(final_df_cleaned['trip_distance'].describe())\n",
    "# print(final_df_cleaned[final_df_cleaned['trip_distance'] <= 0])  # Zero or negative distance\n",
    "\n",
    "# # Payment type — check for unusual codes\n",
    "print(final_df_cleaned['payment_type'].value_counts())\n",
    "\n",
    "# # RatecodeID — check for invalid codes\n",
    "# print(final_df_cleaned['RatecodeID'].value_counts())\n",
    "\n",
    "# # Fare amount — check for negative or zero fares\n",
    "# print(final_df_cleaned[final_df_cleaned['fare_amount'] <= 0])\n"
   ]
  },
  {
   "cell_type": "code",
   "execution_count": 207,
   "metadata": {},
   "outputs": [
    {
     "data": {
      "image/png": "[encoded data removed]",
      "text/plain": [
       "<Figure size 1000x500 with 1 Axes>"
      ]
     },
     "metadata": {},
     "output_type": "display_data"
    }
   ],
   "source": [
    "import matplotlib.pyplot as plt\n",
    "import seaborn as sns\n",
    "\n",
    "# Boxplot for fare_amount\n",
    "plt.figure(figsize=(10, 5))\n",
    "sns.boxplot(x=final_df_cleaned['trip_distance'])\n",
    "plt.title('Boxplot of Fare Amount')\n",
    "plt.show()"
   ]
  },
  {
   "cell_type": "markdown",
   "metadata": {
    "id": "4XDuLkufyJ2g"
   },
   "source": [
    "**2.3.1**  <font color = red>[10 marks]</font> <br>\n",
    "Based on the above analysis, it seems that some of the outliers are present due to errors in registering the trips. Fix the outliers.\n",
    "\n",
    "Some points you can look for:\n",
    "- Entries where `trip_distance` is nearly 0 and `fare_amount` is more than 300\n",
    "- Entries where `trip_distance` and `fare_amount` are 0 but the pickup and dropoff zones are different (both distance and fare should not be zero for different zones)\n",
    "- Entries where `trip_distance` is more than 250  miles.\n",
    "- Entries where `payment_type` is 0 (there is no payment_type 0 defined in the data dictionary)\n",
    "\n",
    "These are just some suggestions. You can handle outliers in any way you wish, using the insights from above outlier analysis."
   ]
  },
  {
   "cell_type": "markdown",
   "metadata": {
    "id": "u-YNHI8tea9c"
   },
   "source": [
    "How will you fix each of these values? Which ones will you drop and which ones will you replace?"
   ]
  },
  {
   "cell_type": "markdown",
   "metadata": {
    "id": "Ap4IfwXO4yZe"
   },
   "source": [
    "First, let us remove 7+ passenger counts as there are very less instances."
   ]
  },
  {
   "cell_type": "code",
   "execution_count": 209,
   "metadata": {
    "id": "XfsOFY5y9-fA"
   },
   "outputs": [],
   "source": [
    "# remove passenger_count > 6\n",
    "final_df_cleaned = final_df_cleaned[final_df_cleaned['passenger_count'] <= 6]"
   ]
  },
  {
   "cell_type": "code",
   "execution_count": 221,
   "metadata": {
    "id": "FCUNe3tu8bie"
   },
   "outputs": [
    {
     "name": "stdout",
     "output_type": "stream",
     "text": [
      "Rows with trip_distance < 0.1 and fare_amount > 300: 0\n",
      "Rows with zero distance & fare but different zones: 0\n",
      "Rows with trip_distance > 250 miles: 0\n",
      "Rows with payment_type == 0: 0\n",
      "Rows with zero distance & fare but different zones: 0\n"
     ]
    }
   ],
   "source": [
    "# Continue with outlier handling\n",
    "condition = (final_df_cleaned['trip_distance'] < 0.1) & (final_df_cleaned['fare_amount'] > 300)\n",
    "print(f\"Rows with trip_distance < 0.1 and fare_amount > 300: {(condition).sum()}\")\n",
    "\n",
    "final_df_cleaned = final_df_cleaned[~condition]\n",
    "\n",
    "\n",
    "condition = (final_df_cleaned['trip_distance'] == 0) & (final_df_cleaned['fare_amount'] == 0) & \\\n",
    "            (final_df_cleaned['PULocationID'] != final_df_cleaned['DOLocationID'])\n",
    "\n",
    "print(f\"Rows with zero distance & fare but different zones: {(condition).sum()}\")\n",
    "\n",
    "final_df_cleaned = final_df_cleaned[~condition]\n",
    "\n",
    "\n",
    "condition = final_df_cleaned['trip_distance'] > 250\n",
    "print(f\"Rows with trip_distance > 250 miles: {(condition).sum()}\")\n",
    "\n",
    "final_df_cleaned = final_df_cleaned[~condition]\n",
    "\n",
    "condition = final_df_cleaned['payment_type'] == 0\n",
    "print(f\"Rows with payment_type == 0: {(condition).sum()}\")\n",
    "\n",
    "final_df_cleaned = final_df_cleaned[final_df_cleaned['payment_type'] != 0]\n",
    "\n",
    "\n"
   ]
  },
  {
   "cell_type": "code",
   "execution_count": 225,
   "metadata": {
    "id": "PuzQXfuT8YKV"
   },
   "outputs": [],
   "source": [
    "# Do any columns need standardising?\n",
    " # the fee and amount columns might require\n"
   ]
  },
  {
   "cell_type": "markdown",
   "metadata": {
    "id": "gPpJyFFNffcL"
   },
   "source": [
    "## **3** Exploratory Data Analysis\n",
    "<font color = red>[90 marks]</font> <br>"
   ]
  },
  {
   "cell_type": "code",
   "execution_count": 227,
   "metadata": {
    "id": "cl-0PcYTfkqh"
   },
   "outputs": [
    {
     "data": {
      "text/plain": [
       "['VendorID',\n",
       " 'tpep_pickup_datetime',\n",
       " 'tpep_dropoff_datetime',\n",
       " 'passenger_count',\n",
       " 'trip_distance',\n",
       " 'RatecodeID',\n",
       " 'store_and_fwd_flag',\n",
       " 'PULocationID',\n",
       " 'DOLocationID',\n",
       " 'payment_type',\n",
       " 'fare_amount',\n",
       " 'extra',\n",
       " 'mta_tax',\n",
       " 'tip_amount',\n",
       " 'tolls_amount',\n",
       " 'improvement_surcharge',\n",
       " 'total_amount',\n",
       " 'congestion_surcharge',\n",
       " 'airport_fee']"
      ]
     },
     "execution_count": 227,
     "metadata": {},
     "output_type": "execute_result"
    }
   ],
   "source": [
    "df.columns.tolist()"
   ]
  },
  {
   "cell_type": "markdown",
   "metadata": {
    "id": "a4N3PvkSTwcN"
   },
   "source": [
    "#### **3.1** General EDA: Finding Patterns and Trends\n",
    "<font color = red>[40 marks]</font> <br>"
   ]
  },
  {
   "cell_type": "markdown",
   "metadata": {
    "id": "9hwonDfZTJO6"
   },
   "source": [
    "**3.1.1** <font color = red>[3 marks]</font> <br>\n",
    "Categorise the varaibles into Numerical or Categorical.\n",
    "* `VendorID`:\n",
    "* `tpep_pickup_datetime`:\n",
    "* `tpep_dropoff_datetime`:\n",
    "* `passenger_count`:\n",
    "* `trip_distance`:\n",
    "* `RatecodeID`:\n",
    "* `PULocationID`:\n",
    "* `DOLocationID`:\n",
    "* `payment_type`:\n",
    "* `pickup_hour`:\n",
    "* `trip_duration`:\n",
    "\n",
    "\n",
    "The following monetary parameters belong in the same category, is it categorical or numerical?\n",
    "\n",
    "\n",
    "* `fare_amount`\n",
    "* `extra`\n",
    "* `mta_tax`\n",
    "* `tip_amount`\n",
    "* `tolls_amount`\n",
    "* `improvement_surcharge`\n",
    "* `total_amount`\n",
    "* `congestion_surcharge`\n",
    "* `airport_fee`"
   ]
  },
  {
   "cell_type": "markdown",
   "metadata": {
    "id": "MbGMjArkiXjL"
   },
   "source": [
    "##### Temporal Analysis"
   ]
  },
  {
   "cell_type": "markdown",
   "metadata": {
    "id": "ZCCbmQ49s2qj"
   },
   "source": [
    "**3.1.2** <font color = red>[5 marks]</font> <br>\n",
    "Analyse the distribution of taxi pickups by hours, days of the week, and months."
   ]
  },
  {
   "cell_type": "code",
   "execution_count": 233,
   "metadata": {
    "id": "RwgWN_MWg0Au"
   },
   "outputs": [],
   "source": [
    "# Find and show the hourly trends in taxi pickups\n",
    "\n",
    "df = final_df_cleaned.copy()\n",
    "\n",
    "# Ensure datetime type\n",
    "df['tpep_pickup_datetime'] = pd.to_datetime(df['tpep_pickup_datetime'])\n",
    "\n",
    "# Extract hour, day of week, and month\n",
    "df['pickup_hour'] = df['tpep_pickup_datetime'].dt.hour\n",
    "df['pickup_dayofweek'] = df['tpep_pickup_datetime'].dt.day_name()  # e.g. Monday, Tuesday\n",
    "df['pickup_month'] = df['tpep_pickup_datetime'].dt.month_name()    # e.g. January, February\n",
    "\n",
    "# Number of pickups by hour\n",
    "hourly_counts = df.groupby('pickup_hour').size()\n",
    "\n",
    "# Number of pickups by day of week (order Monday to Sunday)\n",
    "days_order = ['Monday', 'Tuesday', 'Wednesday', 'Thursday', 'Friday', 'Saturday', 'Sunday']\n",
    "daily_counts = df.groupby('pickup_dayofweek').size().reindex(days_order)\n",
    "\n",
    "# Number of pickups by month (ordered Jan to Dec)\n",
    "months_order = ['January', 'February', 'March', 'April', 'May', 'June', 'July',\n",
    "                'August', 'September', 'October', 'November', 'December']\n",
    "monthly_counts = df.groupby('pickup_month').size().reindex(months_order)"
   ]
  },
  {
   "cell_type": "code",
   "execution_count": 269,
   "metadata": {},
   "outputs": [
    {
     "data": {
      "image/png": "[encoded data removed]",
      "text/plain": [
       "<Figure size 1600x1200 with 1 Axes>"
      ]
     },
     "metadata": {},
     "output_type": "display_data"
    }
   ],
   "source": [
    "import matplotlib.pyplot as plt\n",
    "import seaborn as sns\n",
    "\n",
    "plt.figure(figsize=(16, 12))\n",
    "\n",
    "# Plot pickups by hour\n",
    "sns.barplot(x=hourly_counts.index, y=hourly_counts.values, color='skyblue')\n",
    "plt.title('Taxi Pickups by Hour of Day')\n",
    "plt.xlabel('Hour of Day')\n",
    "plt.ylabel('Number of Pickups')\n",
    "plt.tight_layout()\n",
    "plt.show()"
   ]
  },
  {
   "cell_type": "code",
   "execution_count": 267,
   "metadata": {
    "id": "R64b8zfkG5OK"
   },
   "outputs": [
    {
     "data": {
      "image/png": "[encoded data removed]",
      "text/plain": [
       "<Figure size 640x480 with 1 Axes>"
      ]
     },
     "metadata": {},
     "output_type": "display_data"
    }
   ],
   "source": [
    "# Find and show the daily trends in taxi pickups (days of the week)\n",
    "\n",
    "\n",
    "# Plot pickups by day of week\n",
    "sns.barplot(x=daily_counts.index, y=daily_counts.values, color='yellow')\n",
    "plt.title('Taxi Pickups by Day of Week')\n",
    "plt.xlabel('Day of Week')\n",
    "plt.ylabel('Number of Pickups')\n",
    "plt.tight_layout()\n",
    "plt.show()"
   ]
  },
  {
   "cell_type": "code",
   "execution_count": 273,
   "metadata": {
    "id": "H7V-jmRQG5hJ"
   },
   "outputs": [
    {
     "data": {
      "image/png": "[encoded data removed]",
      "text/plain": [
       "<Figure size 640x480 with 1 Axes>"
      ]
     },
     "metadata": {},
     "output_type": "display_data"
    }
   ],
   "source": [
    "# Show the monthly trends in pickups\n",
    "# Plot pickups by month\n",
    "sns.barplot(x=monthly_counts.index, y=monthly_counts.values, color='pink')\n",
    "plt.title('Taxi Pickups by Month')\n",
    "plt.xlabel('Month')\n",
    "plt.ylabel('Number of Pickups')\n",
    "plt.show()"
   ]
  },
  {
   "cell_type": "markdown",
   "metadata": {
    "id": "23IqsgNjHNpJ"
   },
   "source": [
    "##### Financial Analysis"
   ]
  },
  {
   "cell_type": "markdown",
   "metadata": {
    "id": "fRaO-3NqHSM6"
   },
   "source": [
    "Take a look at the financial parameters like `fare_amount`, `tip_amount`, `total_amount`, and also `trip_distance`. Do these contain zero/negative values?"
   ]
  },
  {
   "cell_type": "code",
   "execution_count": 275,
   "metadata": {
    "id": "Z7JUnPeRHRqF"
   },
   "outputs": [
    {
     "name": "stdout",
     "output_type": "stream",
     "text": [
      "Column 'fare_amount':\n",
      "  Zero values count: 0 (0.0000%)\n",
      "  Negative values count: 1380312 (71.6436%)\n",
      "\n",
      "Column 'tip_amount':\n",
      "  Zero values count: 0 (0.0000%)\n",
      "  Negative values count: 1238449 (64.2803%)\n",
      "\n",
      "Column 'total_amount':\n",
      "  Zero values count: 0 (0.0000%)\n",
      "  Negative values count: 1388735 (72.0808%)\n",
      "\n",
      "Column 'trip_distance':\n",
      "  Zero values count: 0 (0.0000%)\n",
      "  Negative values count: 1456573 (75.6018%)\n",
      "\n"
     ]
    }
   ],
   "source": [
    "# Analyse the above parameters\n",
    "# Columns to check\n",
    "financial_cols = ['fare_amount', 'tip_amount', 'total_amount', 'trip_distance']\n",
    "\n",
    "# Loop through each column and print counts of zero or negative values\n",
    "for col in financial_cols:\n",
    "    zero_count = (final_df_cleaned[col] == 0).sum()\n",
    "    negative_count = (final_df_cleaned[col] < 0).sum()\n",
    "    total_count = len(final_df_cleaned)\n",
    "    print(f\"Column '{col}':\")\n",
    "    print(f\"  Zero values count: {zero_count} ({zero_count/total_count:.4%})\")\n",
    "    print(f\"  Negative values count: {negative_count} ({negative_count/total_count:.4%})\\n\")\n",
    "\n"
   ]
  },
  {
   "cell_type": "markdown",
   "metadata": {
    "id": "dbOS_-GDJTyv"
   },
   "source": [
    "Do you think it is beneficial to create a copy DataFrame leaving out the zero values from these?"
   ]
  },
  {
   "cell_type": "markdown",
   "metadata": {
    "id": "YDN14J63o9gV"
   },
   "source": [
    "**3.1.3** <font color = red>[2 marks]</font> <br>\n",
    "Filter out the zero values from the above columns.\n",
    "\n",
    "**Note:** The distance might be 0 in cases where pickup and drop is in the same zone. Do you think it is suitable to drop such cases of zero distance?"
   ]
  },
  {
   "cell_type": "code",
   "execution_count": 277,
   "metadata": {
    "id": "5mk7Yp41JqJd"
   },
   "outputs": [
    {
     "name": "stdout",
     "output_type": "stream",
     "text": [
      "Original rows: 1926637\n",
      "Filtered rows (no zeros/negatives in key columns): 303543\n"
     ]
    }
   ],
   "source": [
    "# Create a df with non zero entries for the selected parameters.\n",
    "cols_to_check = ['fare_amount', 'tip_amount', 'total_amount', 'trip_distance']\n",
    "\n",
    "filtered_df = final_df_cleaned.copy()\n",
    "\n",
    "# Filter out rows where any of these columns have zero or negative values\n",
    "for col in cols_to_check:\n",
    "    filtered_df = filtered_df[filtered_df[col] > 0]\n",
    "\n",
    "filtered_df.reset_index(drop=True, inplace=True)\n",
    "\n",
    "print(f\"Original rows: {len(final_df_cleaned)}\")\n",
    "print(f\"Filtered rows (no zeros/negatives in key columns): {len(filtered_df)}\")\n",
    "\n"
   ]
  },
  {
   "cell_type": "markdown",
   "metadata": {
    "id": "kJcgwyrtKivH"
   },
   "source": [
    "**3.1.4** <font color = red>[3 marks]</font> <br>\n",
    "Analyse the monthly revenue (`total_amount`) trend"
   ]
  },
  {
   "cell_type": "code",
   "execution_count": 295,
   "metadata": {
    "id": "U_gl8rBD6ZH0"
   },
   "outputs": [
    {
     "data": {
      "image/png": "[encoded data removed]",
      "text/plain": [
       "<Figure size 1200x600 with 1 Axes>"
      ]
     },
     "metadata": {},
     "output_type": "display_data"
    }
   ],
   "source": [
    "# Group data by month and analyse monthly revenue\n",
    "import matplotlib.pyplot as plt\n",
    "# print(final_df_cleaned[final_df_cleaned['tpep_pickup_datetime'].dt.year==2022])\n",
    "# Extract month name and year from datetime (if needed)\n",
    "final_df_cleaned['pickup_month'] = final_df_cleaned['tpep_pickup_datetime'].dt.month_name()\n",
    "final_df_cleaned['pickup_year'] = final_df_cleaned['tpep_pickup_datetime'].dt.year\n",
    "# Group by year and month, sum total_amount to get monthly revenue\n",
    "monthly_revenue = final_df_cleaned.groupby(['pickup_year', 'pickup_month'])['total_amount'].sum()\n",
    "\n",
    "# Since month_name is categorical, let's order the months properly\n",
    "months_order = ['January', 'February', 'March', 'April', 'May', 'June', \n",
    "                'July', 'August', 'September', 'October', 'November', 'December']\n",
    "\n",
    "monthly_revenue = monthly_revenue.reset_index()\n",
    "monthly_revenue['pickup_month'] = pd.Categorical(monthly_revenue['pickup_month'], categories=months_order, ordered=True)\n",
    "monthly_revenue = monthly_revenue.sort_values(['pickup_year', 'pickup_month'])\n",
    "\n",
    "# Plot monthly revenue trend\n",
    "plt.figure(figsize=(12,6))\n",
    "for year in monthly_revenue['pickup_year'].unique():\n",
    "    data_year = monthly_revenue[monthly_revenue['pickup_year'] == year]\n",
    "    plt.plot(data_year['pickup_month'], data_year['total_amount'], marker='o', label=str(year))\n",
    "\n",
    "plt.title('Monthly Revenue Trend by Year')\n",
    "plt.xlabel('Month')\n",
    "plt.ylabel('Total Revenue ($)')\n",
    "plt.xticks(rotation=45)\n",
    "plt.legend()\n",
    "plt.tight_layout()\n",
    "plt.show()\n",
    "\n"
   ]
  },
  {
   "cell_type": "markdown",
   "metadata": {
    "id": "3vQHosTZLalB"
   },
   "source": [
    "**3.1.5** <font color = red>[3 marks]</font> <br>\n",
    "Show the proportion of each quarter of the year in the revenue"
   ]
  },
  {
   "cell_type": "code",
   "execution_count": 297,
   "metadata": {
    "id": "foV9BpFbVTbu"
   },
   "outputs": [
    {
     "name": "stdout",
     "output_type": "stream",
     "text": [
      "  Quarter    Proportion\n",
      "0  2022Q4  2.436382e+08\n",
      "1  2023Q1  9.034445e+12\n",
      "2  2023Q2 -1.199954e+12\n",
      "3  2023Q3 -3.607100e+12\n",
      "4  2023Q4 -4.227634e+12\n"
     ]
    }
   ],
   "source": [
    "# Calculate proportion of each quarter\n",
    "\n",
    "# Extract quarter from datetime\n",
    "final_df_cleaned['pickup_quarter'] = final_df_cleaned['tpep_pickup_datetime'].dt.to_period('Q')\n",
    "\n",
    "# Calculate total revenue per quarter\n",
    "quarterly_revenue = final_df_cleaned.groupby('pickup_quarter')['total_amount'].sum()\n",
    "\n",
    "# Calculate proportion of each quarter relative to total revenue in the dataset\n",
    "total_revenue = quarterly_revenue.sum()\n",
    "quarterly_proportion = (quarterly_revenue / total_revenue).reset_index()\n",
    "quarterly_proportion.columns = ['Quarter', 'Proportion']\n",
    "\n",
    "print(quarterly_proportion)\n"
   ]
  },
  {
   "cell_type": "markdown",
   "metadata": {
    "id": "JncXEPjBLyHp"
   },
   "source": [
    "**3.1.6** <font color = red>[3 marks]</font> <br>\n",
    "Visualise the relationship between `trip_distance` and `fare_amount`. Also find the correlation value for these two.\n",
    "\n",
    "**Hint:** You can leave out the trips with trip_distance = 0"
   ]
  },
  {
   "cell_type": "code",
   "execution_count": 299,
   "metadata": {
    "id": "-z8Fegh_P5At"
   },
   "outputs": [
    {
     "data": {
      "image/png": "[encoded data removed]",
      "text/plain": [
       "<Figure size 1000x600 with 1 Axes>"
      ]
     },
     "metadata": {},
     "output_type": "display_data"
    },
    {
     "name": "stdout",
     "output_type": "stream",
     "text": [
      "Correlation between trip_distance and fare_amount: 0.9092\n"
     ]
    }
   ],
   "source": [
    "# Show how trip fare is affected by distance\n",
    "import matplotlib.pyplot as plt\n",
    "import seaborn as sns\n",
    "\n",
    "# Filter out trips with zero trip_distance\n",
    "df_nonzero = final_df_cleaned[final_df_cleaned['trip_distance'] > 0]\n",
    "\n",
    "# Scatter plot with regression line to visualize relationship\n",
    "plt.figure(figsize=(10,6))\n",
    "sns.scatterplot(data=df_nonzero.sample(5000, random_state=42), x='trip_distance', y='fare_amount', alpha=0.3)\n",
    "sns.regplot(data=df_nonzero.sample(5000, random_state=42), x='trip_distance', y='fare_amount', scatter=False, color='red')\n",
    "\n",
    "plt.title('Relationship between Trip Distance and Fare Amount')\n",
    "plt.xlabel('Trip Distance (miles)')\n",
    "plt.ylabel('Fare Amount ($)')\n",
    "plt.show()\n",
    "\n",
    "# Calculate correlation\n",
    "correlation = df_nonzero['trip_distance'].corr(df_nonzero['fare_amount'])\n",
    "print(f\"Correlation between trip_distance and fare_amount: {correlation:.4f}\")\n",
    "\n"
   ]
  },
  {
   "cell_type": "markdown",
   "metadata": {
    "id": "-OGNFTX4QdeS"
   },
   "source": [
    "**3.1.7** <font color = red>[5 marks]</font> <br>\n",
    "Find and visualise the correlation between:\n",
    "1. `fare_amount` and trip duration (pickup time to dropoff time)\n",
    "2. `fare_amount` and `passenger_count`\n",
    "3. `tip_amount` and `trip_distance`"
   ]
  },
  {
   "cell_type": "code",
   "execution_count": 304,
   "metadata": {
    "id": "EtSNqFw19TB3"
   },
   "outputs": [
    {
     "ename": "KeyboardInterrupt",
     "evalue": "",
     "output_type": "error",
     "traceback": [
      "\u001b[1;31m---------------------------------------------------------------------------\u001b[0m",
      "\u001b[1;31mKeyboardInterrupt\u001b[0m                         Traceback (most recent call last)",
      "Cell \u001b[1;32mIn[304], line 11\u001b[0m\n\u001b[0;32m      9\u001b[0m plt\u001b[38;5;241m.\u001b[39mfigure(figsize\u001b[38;5;241m=\u001b[39m(\u001b[38;5;241m8\u001b[39m, \u001b[38;5;241m5\u001b[39m))\n\u001b[0;32m     10\u001b[0m sns\u001b[38;5;241m.\u001b[39mscatterplot(data\u001b[38;5;241m=\u001b[39mvalid_duration\u001b[38;5;241m.\u001b[39msample(\u001b[38;5;241m3000\u001b[39m, random_state\u001b[38;5;241m=\u001b[39m\u001b[38;5;241m1\u001b[39m), x\u001b[38;5;241m=\u001b[39m\u001b[38;5;124m'\u001b[39m\u001b[38;5;124mtrip_duration\u001b[39m\u001b[38;5;124m'\u001b[39m, y\u001b[38;5;241m=\u001b[39m\u001b[38;5;124m'\u001b[39m\u001b[38;5;124mfare_amount\u001b[39m\u001b[38;5;124m'\u001b[39m, alpha\u001b[38;5;241m=\u001b[39m\u001b[38;5;241m0.4\u001b[39m)\n\u001b[1;32m---> 11\u001b[0m sns\u001b[38;5;241m.\u001b[39mregplot(data\u001b[38;5;241m=\u001b[39mvalid_duration, x\u001b[38;5;241m=\u001b[39m\u001b[38;5;124m'\u001b[39m\u001b[38;5;124mtrip_duration\u001b[39m\u001b[38;5;124m'\u001b[39m, y\u001b[38;5;241m=\u001b[39m\u001b[38;5;124m'\u001b[39m\u001b[38;5;124mfare_amount\u001b[39m\u001b[38;5;124m'\u001b[39m, scatter\u001b[38;5;241m=\u001b[39m\u001b[38;5;28;01mFalse\u001b[39;00m, color\u001b[38;5;241m=\u001b[39m\u001b[38;5;124m'\u001b[39m\u001b[38;5;124mred\u001b[39m\u001b[38;5;124m'\u001b[39m)\n\u001b[0;32m     13\u001b[0m plt\u001b[38;5;241m.\u001b[39mtitle(\u001b[38;5;124m'\u001b[39m\u001b[38;5;124mFare Amount vs Trip Duration\u001b[39m\u001b[38;5;124m'\u001b[39m)\n\u001b[0;32m     14\u001b[0m plt\u001b[38;5;241m.\u001b[39mxlabel(\u001b[38;5;124m'\u001b[39m\u001b[38;5;124mTrip Duration (minutes)\u001b[39m\u001b[38;5;124m'\u001b[39m)\n",
      "File \u001b[1;32m~\\anaconda3\\Lib\\site-packages\\seaborn\\regression.py:775\u001b[0m, in \u001b[0;36mregplot\u001b[1;34m(data, x, y, x_estimator, x_bins, x_ci, scatter, fit_reg, ci, n_boot, units, seed, order, logistic, lowess, robust, logx, x_partial, y_partial, truncate, dropna, x_jitter, y_jitter, label, color, marker, scatter_kws, line_kws, ax)\u001b[0m\n\u001b[0;32m    773\u001b[0m scatter_kws[\u001b[38;5;124m\"\u001b[39m\u001b[38;5;124mmarker\u001b[39m\u001b[38;5;124m\"\u001b[39m] \u001b[38;5;241m=\u001b[39m marker\n\u001b[0;32m    774\u001b[0m line_kws \u001b[38;5;241m=\u001b[39m {} \u001b[38;5;28;01mif\u001b[39;00m line_kws \u001b[38;5;129;01mis\u001b[39;00m \u001b[38;5;28;01mNone\u001b[39;00m \u001b[38;5;28;01melse\u001b[39;00m copy\u001b[38;5;241m.\u001b[39mcopy(line_kws)\n\u001b[1;32m--> 775\u001b[0m plotter\u001b[38;5;241m.\u001b[39mplot(ax, scatter_kws, line_kws)\n\u001b[0;32m    776\u001b[0m \u001b[38;5;28;01mreturn\u001b[39;00m ax\n",
      "File \u001b[1;32m~\\anaconda3\\Lib\\site-packages\\seaborn\\regression.py:384\u001b[0m, in \u001b[0;36m_RegressionPlotter.plot\u001b[1;34m(self, ax, scatter_kws, line_kws)\u001b[0m\n\u001b[0;32m    381\u001b[0m     \u001b[38;5;28mself\u001b[39m\u001b[38;5;241m.\u001b[39mscatterplot(ax, scatter_kws)\n\u001b[0;32m    383\u001b[0m \u001b[38;5;28;01mif\u001b[39;00m \u001b[38;5;28mself\u001b[39m\u001b[38;5;241m.\u001b[39mfit_reg:\n\u001b[1;32m--> 384\u001b[0m     \u001b[38;5;28mself\u001b[39m\u001b[38;5;241m.\u001b[39mlineplot(ax, line_kws)\n\u001b[0;32m    386\u001b[0m \u001b[38;5;66;03m# Label the axes\u001b[39;00m\n\u001b[0;32m    387\u001b[0m \u001b[38;5;28;01mif\u001b[39;00m \u001b[38;5;28mhasattr\u001b[39m(\u001b[38;5;28mself\u001b[39m\u001b[38;5;241m.\u001b[39mx, \u001b[38;5;124m\"\u001b[39m\u001b[38;5;124mname\u001b[39m\u001b[38;5;124m\"\u001b[39m):\n",
      "File \u001b[1;32m~\\anaconda3\\Lib\\site-packages\\seaborn\\regression.py:429\u001b[0m, in \u001b[0;36m_RegressionPlotter.lineplot\u001b[1;34m(self, ax, kws)\u001b[0m\n\u001b[0;32m    427\u001b[0m \u001b[38;5;250m\u001b[39m\u001b[38;5;124;03m\"\"\"Draw the model.\"\"\"\u001b[39;00m\n\u001b[0;32m    428\u001b[0m \u001b[38;5;66;03m# Fit the regression model\u001b[39;00m\n\u001b[1;32m--> 429\u001b[0m grid, yhat, err_bands \u001b[38;5;241m=\u001b[39m \u001b[38;5;28mself\u001b[39m\u001b[38;5;241m.\u001b[39mfit_regression(ax)\n\u001b[0;32m    430\u001b[0m edges \u001b[38;5;241m=\u001b[39m grid[\u001b[38;5;241m0\u001b[39m], grid[\u001b[38;5;241m-\u001b[39m\u001b[38;5;241m1\u001b[39m]\n\u001b[0;32m    432\u001b[0m \u001b[38;5;66;03m# Get set default aesthetics\u001b[39;00m\n",
      "File \u001b[1;32m~\\anaconda3\\Lib\\site-packages\\seaborn\\regression.py:229\u001b[0m, in \u001b[0;36m_RegressionPlotter.fit_regression\u001b[1;34m(self, ax, x_range, grid)\u001b[0m\n\u001b[0;32m    227\u001b[0m     yhat, yhat_boots \u001b[38;5;241m=\u001b[39m \u001b[38;5;28mself\u001b[39m\u001b[38;5;241m.\u001b[39mfit_logx(grid)\n\u001b[0;32m    228\u001b[0m \u001b[38;5;28;01melse\u001b[39;00m:\n\u001b[1;32m--> 229\u001b[0m     yhat, yhat_boots \u001b[38;5;241m=\u001b[39m \u001b[38;5;28mself\u001b[39m\u001b[38;5;241m.\u001b[39mfit_fast(grid)\n\u001b[0;32m    231\u001b[0m \u001b[38;5;66;03m# Compute the confidence interval at each grid point\u001b[39;00m\n\u001b[0;32m    232\u001b[0m \u001b[38;5;28;01mif\u001b[39;00m ci \u001b[38;5;129;01mis\u001b[39;00m \u001b[38;5;28;01mNone\u001b[39;00m:\n",
      "File \u001b[1;32m~\\anaconda3\\Lib\\site-packages\\seaborn\\regression.py:250\u001b[0m, in \u001b[0;36m_RegressionPlotter.fit_fast\u001b[1;34m(self, grid)\u001b[0m\n\u001b[0;32m    247\u001b[0m \u001b[38;5;28;01mif\u001b[39;00m \u001b[38;5;28mself\u001b[39m\u001b[38;5;241m.\u001b[39mci \u001b[38;5;129;01mis\u001b[39;00m \u001b[38;5;28;01mNone\u001b[39;00m:\n\u001b[0;32m    248\u001b[0m     \u001b[38;5;28;01mreturn\u001b[39;00m yhat, \u001b[38;5;28;01mNone\u001b[39;00m\n\u001b[1;32m--> 250\u001b[0m beta_boots \u001b[38;5;241m=\u001b[39m algo\u001b[38;5;241m.\u001b[39mbootstrap(X, y,\n\u001b[0;32m    251\u001b[0m                             func\u001b[38;5;241m=\u001b[39mreg_func,\n\u001b[0;32m    252\u001b[0m                             n_boot\u001b[38;5;241m=\u001b[39m\u001b[38;5;28mself\u001b[39m\u001b[38;5;241m.\u001b[39mn_boot,\n\u001b[0;32m    253\u001b[0m                             units\u001b[38;5;241m=\u001b[39m\u001b[38;5;28mself\u001b[39m\u001b[38;5;241m.\u001b[39munits,\n\u001b[0;32m    254\u001b[0m                             seed\u001b[38;5;241m=\u001b[39m\u001b[38;5;28mself\u001b[39m\u001b[38;5;241m.\u001b[39mseed)\u001b[38;5;241m.\u001b[39mT\n\u001b[0;32m    255\u001b[0m yhat_boots \u001b[38;5;241m=\u001b[39m grid\u001b[38;5;241m.\u001b[39mdot(beta_boots)\u001b[38;5;241m.\u001b[39mT\n\u001b[0;32m    256\u001b[0m \u001b[38;5;28;01mreturn\u001b[39;00m yhat, yhat_boots\n",
      "File \u001b[1;32m~\\anaconda3\\Lib\\site-packages\\seaborn\\algorithms.py:100\u001b[0m, in \u001b[0;36mbootstrap\u001b[1;34m(*args, **kwargs)\u001b[0m\n\u001b[0;32m     98\u001b[0m     resampler \u001b[38;5;241m=\u001b[39m integers(\u001b[38;5;241m0\u001b[39m, n, n, dtype\u001b[38;5;241m=\u001b[39mnp\u001b[38;5;241m.\u001b[39mintp)  \u001b[38;5;66;03m# intp is indexing dtype\u001b[39;00m\n\u001b[0;32m     99\u001b[0m     sample \u001b[38;5;241m=\u001b[39m [a\u001b[38;5;241m.\u001b[39mtake(resampler, axis\u001b[38;5;241m=\u001b[39m\u001b[38;5;241m0\u001b[39m) \u001b[38;5;28;01mfor\u001b[39;00m a \u001b[38;5;129;01min\u001b[39;00m args]\n\u001b[1;32m--> 100\u001b[0m     boot_dist\u001b[38;5;241m.\u001b[39mappend(f(\u001b[38;5;241m*\u001b[39msample, \u001b[38;5;241m*\u001b[39m\u001b[38;5;241m*\u001b[39mfunc_kwargs))\n\u001b[0;32m    101\u001b[0m \u001b[38;5;28;01mreturn\u001b[39;00m np\u001b[38;5;241m.\u001b[39marray(boot_dist)\n",
      "File \u001b[1;32m~\\anaconda3\\Lib\\site-packages\\seaborn\\regression.py:242\u001b[0m, in \u001b[0;36m_RegressionPlotter.fit_fast.<locals>.reg_func\u001b[1;34m(_x, _y)\u001b[0m\n\u001b[0;32m    241\u001b[0m \u001b[38;5;28;01mdef\u001b[39;00m \u001b[38;5;21mreg_func\u001b[39m(_x, _y):\n\u001b[1;32m--> 242\u001b[0m     \u001b[38;5;28;01mreturn\u001b[39;00m np\u001b[38;5;241m.\u001b[39mlinalg\u001b[38;5;241m.\u001b[39mpinv(_x)\u001b[38;5;241m.\u001b[39mdot(_y)\n",
      "File \u001b[1;32m~\\anaconda3\\Lib\\site-packages\\numpy\\linalg\\linalg.py:2022\u001b[0m, in \u001b[0;36mpinv\u001b[1;34m(a, rcond, hermitian)\u001b[0m\n\u001b[0;32m   2020\u001b[0m     \u001b[38;5;28;01mreturn\u001b[39;00m wrap(res)\n\u001b[0;32m   2021\u001b[0m a \u001b[38;5;241m=\u001b[39m a\u001b[38;5;241m.\u001b[39mconjugate()\n\u001b[1;32m-> 2022\u001b[0m u, s, vt \u001b[38;5;241m=\u001b[39m svd(a, full_matrices\u001b[38;5;241m=\u001b[39m\u001b[38;5;28;01mFalse\u001b[39;00m, hermitian\u001b[38;5;241m=\u001b[39mhermitian)\n\u001b[0;32m   2024\u001b[0m \u001b[38;5;66;03m# discard small singular values\u001b[39;00m\n\u001b[0;32m   2025\u001b[0m cutoff \u001b[38;5;241m=\u001b[39m rcond[\u001b[38;5;241m.\u001b[39m\u001b[38;5;241m.\u001b[39m\u001b[38;5;241m.\u001b[39m, newaxis] \u001b[38;5;241m*\u001b[39m amax(s, axis\u001b[38;5;241m=\u001b[39m\u001b[38;5;241m-\u001b[39m\u001b[38;5;241m1\u001b[39m, keepdims\u001b[38;5;241m=\u001b[39m\u001b[38;5;28;01mTrue\u001b[39;00m)\n",
      "File \u001b[1;32m~\\anaconda3\\Lib\\site-packages\\numpy\\linalg\\linalg.py:1681\u001b[0m, in \u001b[0;36msvd\u001b[1;34m(a, full_matrices, compute_uv, hermitian)\u001b[0m\n\u001b[0;32m   1678\u001b[0m         gufunc \u001b[38;5;241m=\u001b[39m _umath_linalg\u001b[38;5;241m.\u001b[39msvd_n_s\n\u001b[0;32m   1680\u001b[0m signature \u001b[38;5;241m=\u001b[39m \u001b[38;5;124m'\u001b[39m\u001b[38;5;124mD->DdD\u001b[39m\u001b[38;5;124m'\u001b[39m \u001b[38;5;28;01mif\u001b[39;00m isComplexType(t) \u001b[38;5;28;01melse\u001b[39;00m \u001b[38;5;124m'\u001b[39m\u001b[38;5;124md->ddd\u001b[39m\u001b[38;5;124m'\u001b[39m\n\u001b[1;32m-> 1681\u001b[0m u, s, vh \u001b[38;5;241m=\u001b[39m gufunc(a, signature\u001b[38;5;241m=\u001b[39msignature, extobj\u001b[38;5;241m=\u001b[39mextobj)\n\u001b[0;32m   1682\u001b[0m u \u001b[38;5;241m=\u001b[39m u\u001b[38;5;241m.\u001b[39mastype(result_t, copy\u001b[38;5;241m=\u001b[39m\u001b[38;5;28;01mFalse\u001b[39;00m)\n\u001b[0;32m   1683\u001b[0m s \u001b[38;5;241m=\u001b[39m s\u001b[38;5;241m.\u001b[39mastype(_realType(result_t), copy\u001b[38;5;241m=\u001b[39m\u001b[38;5;28;01mFalse\u001b[39;00m)\n",
      "\u001b[1;31mKeyboardInterrupt\u001b[0m: "
     ]
    },
    {
     "data": {
      "image/png": "[encoded data removed]",
      "text/plain": [
       "<Figure size 800x500 with 1 Axes>"
      ]
     },
     "metadata": {},
     "output_type": "display_data"
    }
   ],
   "source": [
    "# Show relationship between fare and trip duration\n",
    "# Calculate trip duration in minutes\n",
    "final_df_cleaned['trip_duration'] = (\n",
    "    final_df_cleaned['tpep_dropoff_datetime'] - final_df_cleaned['tpep_pickup_datetime']\n",
    ").dt.total_seconds() / 60\n",
    "\n",
    "valid_duration = final_df_cleaned[final_df_cleaned['trip_duration'] > 0]\n",
    "\n",
    "plt.figure(figsize=(8, 5))\n",
    "sns.scatterplot(data=valid_duration.sample(3000, random_state=1), x='trip_duration', y='fare_amount', alpha=0.4)\n",
    "sns.regplot(data=valid_duration, x='trip_duration', y='fare_amount', scatter=False, color='red')\n",
    "\n",
    "plt.title('Fare Amount vs Trip Duration')\n",
    "plt.xlabel('Trip Duration (minutes)')\n",
    "plt.ylabel('Fare Amount ($)')\n",
    "plt.show()\n",
    "\n",
    "# Correlation\n",
    "corr1 = valid_duration['trip_duration'].corr(valid_duration['fare_amount'])\n",
    "print(f\"Correlation between fare_amount and trip_duration: {corr1:.4f}\")"
   ]
  },
  {
   "cell_type": "code",
   "execution_count": 307,
   "metadata": {
    "id": "oTrlXiBm9TB3"
   },
   "outputs": [
    {
     "data": {
      "image/png": "[encoded data removed]",
      "text/plain": [
       "<Figure size 800x500 with 1 Axes>"
      ]
     },
     "metadata": {},
     "output_type": "display_data"
    },
    {
     "name": "stdout",
     "output_type": "stream",
     "text": [
      "Correlation between fare_amount and passenger_count: 0.0473\n"
     ]
    }
   ],
   "source": [
    "# Show relationship between fare and number of passengers\n",
    "\n",
    "plt.figure(figsize=(8, 5))\n",
    "sns.boxplot(x='passenger_count', y='fare_amount', data=final_df_cleaned)\n",
    "plt.title('Fare Amount vs Passenger Count')\n",
    "plt.xlabel('Passenger Count')\n",
    "plt.ylabel('Fare Amount ($)')\n",
    "plt.show()\n",
    "\n",
    "# Correlation\n",
    "corr2 = final_df_cleaned['passenger_count'].corr(final_df_cleaned['fare_amount'])\n",
    "print(f\"Correlation between fare_amount and passenger_count: {corr2:.4f}\")\n"
   ]
  },
  {
   "cell_type": "code",
   "execution_count": 309,
   "metadata": {
    "id": "Lph7rakc9TB3"
   },
   "outputs": [
    {
     "ename": "KeyboardInterrupt",
     "evalue": "",
     "output_type": "error",
     "traceback": [
      "\u001b[1;31m---------------------------------------------------------------------------\u001b[0m",
      "\u001b[1;31mKeyboardInterrupt\u001b[0m                         Traceback (most recent call last)",
      "Cell \u001b[1;32mIn[309], line 4\u001b[0m\n\u001b[0;32m      2\u001b[0m plt\u001b[38;5;241m.\u001b[39mfigure(figsize\u001b[38;5;241m=\u001b[39m(\u001b[38;5;241m8\u001b[39m, \u001b[38;5;241m5\u001b[39m))\n\u001b[0;32m      3\u001b[0m sns\u001b[38;5;241m.\u001b[39mscatterplot(data\u001b[38;5;241m=\u001b[39mfinal_df_cleaned\u001b[38;5;241m.\u001b[39msample(\u001b[38;5;241m3000\u001b[39m, random_state\u001b[38;5;241m=\u001b[39m\u001b[38;5;241m1\u001b[39m), x\u001b[38;5;241m=\u001b[39m\u001b[38;5;124m'\u001b[39m\u001b[38;5;124mtrip_distance\u001b[39m\u001b[38;5;124m'\u001b[39m, y\u001b[38;5;241m=\u001b[39m\u001b[38;5;124m'\u001b[39m\u001b[38;5;124mtip_amount\u001b[39m\u001b[38;5;124m'\u001b[39m, alpha\u001b[38;5;241m=\u001b[39m\u001b[38;5;241m0.4\u001b[39m)\n\u001b[1;32m----> 4\u001b[0m sns\u001b[38;5;241m.\u001b[39mregplot(data\u001b[38;5;241m=\u001b[39mfinal_df_cleaned, x\u001b[38;5;241m=\u001b[39m\u001b[38;5;124m'\u001b[39m\u001b[38;5;124mtrip_distance\u001b[39m\u001b[38;5;124m'\u001b[39m, y\u001b[38;5;241m=\u001b[39m\u001b[38;5;124m'\u001b[39m\u001b[38;5;124mtip_amount\u001b[39m\u001b[38;5;124m'\u001b[39m, scatter\u001b[38;5;241m=\u001b[39m\u001b[38;5;28;01mFalse\u001b[39;00m, color\u001b[38;5;241m=\u001b[39m\u001b[38;5;124m'\u001b[39m\u001b[38;5;124mgreen\u001b[39m\u001b[38;5;124m'\u001b[39m)\n\u001b[0;32m      6\u001b[0m plt\u001b[38;5;241m.\u001b[39mtitle(\u001b[38;5;124m'\u001b[39m\u001b[38;5;124mTip Amount vs Trip Distance\u001b[39m\u001b[38;5;124m'\u001b[39m)\n\u001b[0;32m      7\u001b[0m plt\u001b[38;5;241m.\u001b[39mxlabel(\u001b[38;5;124m'\u001b[39m\u001b[38;5;124mTrip Distance (miles)\u001b[39m\u001b[38;5;124m'\u001b[39m)\n",
      "File \u001b[1;32m~\\anaconda3\\Lib\\site-packages\\seaborn\\regression.py:775\u001b[0m, in \u001b[0;36mregplot\u001b[1;34m(data, x, y, x_estimator, x_bins, x_ci, scatter, fit_reg, ci, n_boot, units, seed, order, logistic, lowess, robust, logx, x_partial, y_partial, truncate, dropna, x_jitter, y_jitter, label, color, marker, scatter_kws, line_kws, ax)\u001b[0m\n\u001b[0;32m    773\u001b[0m scatter_kws[\u001b[38;5;124m\"\u001b[39m\u001b[38;5;124mmarker\u001b[39m\u001b[38;5;124m\"\u001b[39m] \u001b[38;5;241m=\u001b[39m marker\n\u001b[0;32m    774\u001b[0m line_kws \u001b[38;5;241m=\u001b[39m {} \u001b[38;5;28;01mif\u001b[39;00m line_kws \u001b[38;5;129;01mis\u001b[39;00m \u001b[38;5;28;01mNone\u001b[39;00m \u001b[38;5;28;01melse\u001b[39;00m copy\u001b[38;5;241m.\u001b[39mcopy(line_kws)\n\u001b[1;32m--> 775\u001b[0m plotter\u001b[38;5;241m.\u001b[39mplot(ax, scatter_kws, line_kws)\n\u001b[0;32m    776\u001b[0m \u001b[38;5;28;01mreturn\u001b[39;00m ax\n",
      "File \u001b[1;32m~\\anaconda3\\Lib\\site-packages\\seaborn\\regression.py:384\u001b[0m, in \u001b[0;36m_RegressionPlotter.plot\u001b[1;34m(self, ax, scatter_kws, line_kws)\u001b[0m\n\u001b[0;32m    381\u001b[0m     \u001b[38;5;28mself\u001b[39m\u001b[38;5;241m.\u001b[39mscatterplot(ax, scatter_kws)\n\u001b[0;32m    383\u001b[0m \u001b[38;5;28;01mif\u001b[39;00m \u001b[38;5;28mself\u001b[39m\u001b[38;5;241m.\u001b[39mfit_reg:\n\u001b[1;32m--> 384\u001b[0m     \u001b[38;5;28mself\u001b[39m\u001b[38;5;241m.\u001b[39mlineplot(ax, line_kws)\n\u001b[0;32m    386\u001b[0m \u001b[38;5;66;03m# Label the axes\u001b[39;00m\n\u001b[0;32m    387\u001b[0m \u001b[38;5;28;01mif\u001b[39;00m \u001b[38;5;28mhasattr\u001b[39m(\u001b[38;5;28mself\u001b[39m\u001b[38;5;241m.\u001b[39mx, \u001b[38;5;124m\"\u001b[39m\u001b[38;5;124mname\u001b[39m\u001b[38;5;124m\"\u001b[39m):\n",
      "File \u001b[1;32m~\\anaconda3\\Lib\\site-packages\\seaborn\\regression.py:429\u001b[0m, in \u001b[0;36m_RegressionPlotter.lineplot\u001b[1;34m(self, ax, kws)\u001b[0m\n\u001b[0;32m    427\u001b[0m \u001b[38;5;250m\u001b[39m\u001b[38;5;124;03m\"\"\"Draw the model.\"\"\"\u001b[39;00m\n\u001b[0;32m    428\u001b[0m \u001b[38;5;66;03m# Fit the regression model\u001b[39;00m\n\u001b[1;32m--> 429\u001b[0m grid, yhat, err_bands \u001b[38;5;241m=\u001b[39m \u001b[38;5;28mself\u001b[39m\u001b[38;5;241m.\u001b[39mfit_regression(ax)\n\u001b[0;32m    430\u001b[0m edges \u001b[38;5;241m=\u001b[39m grid[\u001b[38;5;241m0\u001b[39m], grid[\u001b[38;5;241m-\u001b[39m\u001b[38;5;241m1\u001b[39m]\n\u001b[0;32m    432\u001b[0m \u001b[38;5;66;03m# Get set default aesthetics\u001b[39;00m\n",
      "File \u001b[1;32m~\\anaconda3\\Lib\\site-packages\\seaborn\\regression.py:229\u001b[0m, in \u001b[0;36m_RegressionPlotter.fit_regression\u001b[1;34m(self, ax, x_range, grid)\u001b[0m\n\u001b[0;32m    227\u001b[0m     yhat, yhat_boots \u001b[38;5;241m=\u001b[39m \u001b[38;5;28mself\u001b[39m\u001b[38;5;241m.\u001b[39mfit_logx(grid)\n\u001b[0;32m    228\u001b[0m \u001b[38;5;28;01melse\u001b[39;00m:\n\u001b[1;32m--> 229\u001b[0m     yhat, yhat_boots \u001b[38;5;241m=\u001b[39m \u001b[38;5;28mself\u001b[39m\u001b[38;5;241m.\u001b[39mfit_fast(grid)\n\u001b[0;32m    231\u001b[0m \u001b[38;5;66;03m# Compute the confidence interval at each grid point\u001b[39;00m\n\u001b[0;32m    232\u001b[0m \u001b[38;5;28;01mif\u001b[39;00m ci \u001b[38;5;129;01mis\u001b[39;00m \u001b[38;5;28;01mNone\u001b[39;00m:\n",
      "File \u001b[1;32m~\\anaconda3\\Lib\\site-packages\\seaborn\\regression.py:250\u001b[0m, in \u001b[0;36m_RegressionPlotter.fit_fast\u001b[1;34m(self, grid)\u001b[0m\n\u001b[0;32m    247\u001b[0m \u001b[38;5;28;01mif\u001b[39;00m \u001b[38;5;28mself\u001b[39m\u001b[38;5;241m.\u001b[39mci \u001b[38;5;129;01mis\u001b[39;00m \u001b[38;5;28;01mNone\u001b[39;00m:\n\u001b[0;32m    248\u001b[0m     \u001b[38;5;28;01mreturn\u001b[39;00m yhat, \u001b[38;5;28;01mNone\u001b[39;00m\n\u001b[1;32m--> 250\u001b[0m beta_boots \u001b[38;5;241m=\u001b[39m algo\u001b[38;5;241m.\u001b[39mbootstrap(X, y,\n\u001b[0;32m    251\u001b[0m                             func\u001b[38;5;241m=\u001b[39mreg_func,\n\u001b[0;32m    252\u001b[0m                             n_boot\u001b[38;5;241m=\u001b[39m\u001b[38;5;28mself\u001b[39m\u001b[38;5;241m.\u001b[39mn_boot,\n\u001b[0;32m    253\u001b[0m                             units\u001b[38;5;241m=\u001b[39m\u001b[38;5;28mself\u001b[39m\u001b[38;5;241m.\u001b[39munits,\n\u001b[0;32m    254\u001b[0m                             seed\u001b[38;5;241m=\u001b[39m\u001b[38;5;28mself\u001b[39m\u001b[38;5;241m.\u001b[39mseed)\u001b[38;5;241m.\u001b[39mT\n\u001b[0;32m    255\u001b[0m yhat_boots \u001b[38;5;241m=\u001b[39m grid\u001b[38;5;241m.\u001b[39mdot(beta_boots)\u001b[38;5;241m.\u001b[39mT\n\u001b[0;32m    256\u001b[0m \u001b[38;5;28;01mreturn\u001b[39;00m yhat, yhat_boots\n",
      "File \u001b[1;32m~\\anaconda3\\Lib\\site-packages\\seaborn\\algorithms.py:98\u001b[0m, in \u001b[0;36mbootstrap\u001b[1;34m(*args, **kwargs)\u001b[0m\n\u001b[0;32m     96\u001b[0m boot_dist \u001b[38;5;241m=\u001b[39m []\n\u001b[0;32m     97\u001b[0m \u001b[38;5;28;01mfor\u001b[39;00m i \u001b[38;5;129;01min\u001b[39;00m \u001b[38;5;28mrange\u001b[39m(\u001b[38;5;28mint\u001b[39m(n_boot)):\n\u001b[1;32m---> 98\u001b[0m     resampler \u001b[38;5;241m=\u001b[39m integers(\u001b[38;5;241m0\u001b[39m, n, n, dtype\u001b[38;5;241m=\u001b[39mnp\u001b[38;5;241m.\u001b[39mintp)  \u001b[38;5;66;03m# intp is indexing dtype\u001b[39;00m\n\u001b[0;32m     99\u001b[0m     sample \u001b[38;5;241m=\u001b[39m [a\u001b[38;5;241m.\u001b[39mtake(resampler, axis\u001b[38;5;241m=\u001b[39m\u001b[38;5;241m0\u001b[39m) \u001b[38;5;28;01mfor\u001b[39;00m a \u001b[38;5;129;01min\u001b[39;00m args]\n\u001b[0;32m    100\u001b[0m     boot_dist\u001b[38;5;241m.\u001b[39mappend(f(\u001b[38;5;241m*\u001b[39msample, \u001b[38;5;241m*\u001b[39m\u001b[38;5;241m*\u001b[39mfunc_kwargs))\n",
      "\u001b[1;31mKeyboardInterrupt\u001b[0m: "
     ]
    },
    {
     "data": {
      "image/png": "[encoded data removed]",
      "text/plain": [
       "<Figure size 800x500 with 1 Axes>"
      ]
     },
     "metadata": {},
     "output_type": "display_data"
    }
   ],
   "source": [
    "# Show relationship between tip and trip distance\n",
    "plt.figure(figsize=(8, 5))\n",
    "sns.scatterplot(data=final_df_cleaned.sample(3000, random_state=1), x='trip_distance', y='tip_amount', alpha=0.4)\n",
    "sns.regplot(data=final_df_cleaned, x='trip_distance', y='tip_amount', scatter=False, color='green')\n",
    "\n",
    "plt.title('Tip Amount vs Trip Distance')\n",
    "plt.xlabel('Trip Distance (miles)')\n",
    "plt.ylabel('Tip Amount ($)')\n",
    "plt.show()\n",
    "\n",
    "# Correlation\n",
    "corr3 = final_df_cleaned['trip_distance'].corr(final_df_cleaned['tip_amount'])\n",
    "print(f\"Correlation between tip_amount and trip_distance: {corr3:.4f}\")\n",
    "\n"
   ]
  },
  {
   "cell_type": "markdown",
   "metadata": {
    "id": "3EL5CU47QJ5u"
   },
   "source": [
    "**3.1.8** <font color = red>[3 marks]</font> <br>\n",
    "Analyse the distribution of different payment types (`payment_type`)"
   ]
  },
  {
   "cell_type": "code",
   "execution_count": 312,
   "metadata": {
    "id": "pknOiYLp9Wnd"
   },
   "outputs": [
    {
     "name": "stdout",
     "output_type": "stream",
     "text": [
      "payment_type\n",
      "Credit Card    1570382\n",
      "Cash            332524\n",
      "No Charge         9283\n",
      "Dispute          14448\n",
      "Name: count, dtype: int64\n"
     ]
    }
   ],
   "source": [
    "# Analyse the distribution of different payment types (payment_type).\n",
    "\n",
    "# Count of each payment type\n",
    "payment_counts = final_df_cleaned['payment_type'].value_counts().sort_index()\n",
    "\n",
    "# Map the codes to their meanings\n",
    "payment_labels = {\n",
    "    1: 'Credit Card',\n",
    "    2: 'Cash',\n",
    "    3: 'No Charge',\n",
    "    4: 'Dispute',\n",
    "    5: 'Unknown',\n",
    "    6: 'Voided Trip'\n",
    "}\n",
    "\n",
    "payment_counts.index = payment_counts.index.map(payment_labels)\n",
    "print(payment_counts)\n",
    "\n"
   ]
  },
  {
   "cell_type": "markdown",
   "metadata": {
    "id": "PxxbUmSZ9Wne"
   },
   "source": [
    "- 1= Credit card\n",
    "- 2= Cash\n",
    "- 3= No charge\n",
    "- 4= Dispute\n",
    "\n"
   ]
  },
  {
   "cell_type": "markdown",
   "metadata": {
    "id": "CVXxcSYHj9sh"
   },
   "source": [
    "##### Geographical Analysis"
   ]
  },
  {
   "cell_type": "markdown",
   "metadata": {
    "id": "tvBXuYW7kEyS"
   },
   "source": [
    "For this, you have to use the *taxi_zones.shp* file from the *taxi_zones* folder.\n",
    "\n",
    "There would be multiple files inside the folder (such as *.shx, .sbx, .sbn* etc). You do not need to import/read any of the files other than the shapefile, *taxi_zones.shp*.\n",
    "\n",
    "Do not change any folder structure - all the files need to be present inside the folder for it to work.\n",
    "\n",
    "The folder structure should look like this:\n",
    "```\n",
    "Taxi Zones\n",
    "|- taxi_zones.shp.xml\n",
    "|- taxi_zones.prj\n",
    "|- taxi_zones.sbn\n",
    "|- taxi_zones.shp\n",
    "|- taxi_zones.dbf\n",
    "|- taxi_zones.shx\n",
    "|- taxi_zones.sbx\n",
    "\n",
    " ```\n",
    "\n",
    " You only need to read the `taxi_zones.shp` file. The *shp* file will utilise the other files by itself."
   ]
  },
  {
   "cell_type": "markdown",
   "metadata": {
    "id": "hR8f8ypXUtxJ"
   },
   "source": [
    "We will use the *GeoPandas* library for geopgraphical analysis\n",
    "```\n",
    "import geopandas as gpd\n",
    "```\n",
    "\n",
    "More about geopandas and shapefiles: [About](https://geopandas.org/en/stable/about.html)\n",
    "\n",
    "\n",
    "Reading the shapefile is very similar to *Pandas*. Use `gpd.read_file()` function to load the data (*taxi_zones.shp*) as a GeoDataFrame. Documentation: [Reading and Writing Files](https://geopandas.org/en/stable/docs/user_guide/io.html)"
   ]
  },
  {
   "cell_type": "code",
   "execution_count": null,
   "metadata": {
    "id": "FJ76QD9IXNz8"
   },
   "outputs": [],
   "source": [
    "# !pip install geopandas"
   ]
  },
  {
   "cell_type": "markdown",
   "metadata": {
    "id": "q_QpZLl_WU-b"
   },
   "source": [
    "**3.1.9** <font color = red>[2 marks]</font> <br>\n",
    "Load the shapefile and display it."
   ]
  },
  {
   "cell_type": "code",
   "execution_count": null,
   "metadata": {
    "id": "hLyVd3TQkCdG"
   },
   "outputs": [],
   "source": [
    "# import geopandas as gpd\n",
    "\n",
    "\n",
    "# Read the shapefile using geopandas\n",
    "zones = # read the .shp file using gpd\n",
    "zones.head()"
   ]
  },
  {
   "cell_type": "markdown",
   "metadata": {
    "id": "8YXJMzRoWxeg"
   },
   "source": [
    "Now, if you look at the DataFrame created, you will see columns like: `OBJECTID`,`Shape_Leng`, `Shape_Area`, `zone`, `LocationID`, `borough`, `geometry`.\n",
    "<br><br>\n",
    "\n",
    "Now, the `locationID` here is also what we are using to mark pickup and drop zones in the trip records.\n",
    "\n",
    "The geometric parameters like shape length, shape area and geometry are used to plot the zones on a map.\n",
    "\n",
    "This can be easily done using the `plot()` method."
   ]
  },
  {
   "cell_type": "code",
   "execution_count": null,
   "metadata": {
    "id": "lTqdZChLYE6H"
   },
   "outputs": [],
   "source": [
    "# print(zones.info())\n",
    "# zones.plot()"
   ]
  },
  {
   "cell_type": "markdown",
   "metadata": {
    "id": "fBkWokLIY_BH"
   },
   "source": [
    "Now, you have to merge the trip records and zones data using the location IDs.\n",
    "\n"
   ]
  },
  {
   "cell_type": "markdown",
   "metadata": {
    "id": "YzUMLUjqaJLN"
   },
   "source": [
    "**3.1.10** <font color = red>[3 marks]</font> <br>\n",
    "Merge the zones data into trip data using the `locationID` and `PULocationID` columns."
   ]
  },
  {
   "cell_type": "code",
   "execution_count": null,
   "metadata": {
    "id": "A2L8hWMQaYkX"
   },
   "outputs": [],
   "source": [
    "# Merge zones and trip records using locationID and PULocationID\n",
    "\n"
   ]
  },
  {
   "cell_type": "markdown",
   "metadata": {
    "id": "9CYc36Weai5-"
   },
   "source": [
    "**3.1.11** <font color = red>[3 marks]</font> <br>\n",
    "Group data by location IDs to find the total number of trips per location ID"
   ]
  },
  {
   "cell_type": "code",
   "execution_count": null,
   "metadata": {
    "id": "XpTIaPSSbwZZ"
   },
   "outputs": [],
   "source": [
    "# Group data by location and calculate the number of trips\n",
    "\n"
   ]
  },
  {
   "cell_type": "markdown",
   "metadata": {
    "id": "As0dVJpdcK2_"
   },
   "source": [
    "**3.1.12** <font color = red>[2 marks]</font> <br>\n",
    "Now, use the grouped data to add number of trips to the GeoDataFrame.\n",
    "\n",
    "We will use this to plot a map of zones showing total trips per zone."
   ]
  },
  {
   "cell_type": "code",
   "execution_count": null,
   "metadata": {
    "id": "H9Sheg7vdZ6q"
   },
   "outputs": [],
   "source": [
    "# Merge trip counts back to the zones GeoDataFrame\n",
    "\n",
    "\n"
   ]
  },
  {
   "cell_type": "markdown",
   "metadata": {
    "id": "DsfomL6Od0_R"
   },
   "source": [
    "The next step is creating a color map (choropleth map) showing zones by the number of trips taken.\n",
    "\n",
    "Again, you can use the `zones.plot()` method for this. [Plot Method GPD](https://geopandas.org/en/stable/docs/reference/api/geopandas.GeoDataFrame.plot.html#geopandas.GeoDataFrame.plot)\n",
    "\n",
    "But first, you need to define the figure and axis for the plot.\n",
    "\n",
    "`fig, ax = plt.subplots(1, 1, figsize = (12, 10))`\n",
    "\n",
    "This function creates a figure (fig) and a single subplot (ax)\n",
    "\n",
    "---"
   ]
  },
  {
   "cell_type": "markdown",
   "metadata": {
    "id": "QgDcw8gUejVk"
   },
   "source": [
    "After setting up the figure and axis, we can proceed to plot the GeoDataFrame on this axis. This is done in the next step where we use the plot method of the GeoDataFrame.\n",
    "\n",
    "You can define the following parameters in the `zones.plot()` method:\n",
    "```\n",
    "column = '',\n",
    "ax = ax,\n",
    "legend = True,\n",
    "legend_kwds = {'label': \"label\", 'orientation': \"<horizontal/vertical>\"}\n",
    "```\n",
    "\n",
    "To display the plot, use `plt.show()`."
   ]
  },
  {
   "cell_type": "markdown",
   "metadata": {
    "id": "xFQmkJipfU1P"
   },
   "source": [
    "**3.1.13** <font color = red>[3 marks]</font> <br>\n",
    "Plot a color-coded map showing zone-wise trips"
   ]
  },
  {
   "cell_type": "code",
   "execution_count": null,
   "metadata": {
    "id": "i506kVTgefM5"
   },
   "outputs": [],
   "source": [
    "# Define figure and axis\n",
    "\n",
    "\n",
    "# Plot the map and display it\n",
    "\n"
   ]
  },
  {
   "cell_type": "code",
   "execution_count": null,
   "metadata": {
    "id": "gwDs7OaBSopP"
   },
   "outputs": [],
   "source": [
    "# can you try displaying the zones DF sorted by the number of trips?\n",
    "\n"
   ]
  },
  {
   "cell_type": "markdown",
   "metadata": {
    "id": "T1bE7-QbgSrZ"
   },
   "source": [
    "Here we have completed the temporal, financial and geographical analysis on the trip records.\n",
    "\n",
    "**Compile your findings from general analysis below:**"
   ]
  },
  {
   "cell_type": "markdown",
   "metadata": {
    "id": "7YiVFIX3gcL3"
   },
   "source": [
    "You can consider the following points:\n",
    "\n",
    "* Busiest hours, days and months\n",
    "* Trends in revenue collected\n",
    "* Trends in quarterly revenue\n",
    "* How fare depends on trip distance, trip duration and passenger counts\n",
    "* How tip amount depends on trip distance\n",
    "* Busiest zones\n"
   ]
  },
  {
   "cell_type": "markdown",
   "metadata": {
    "id": "Rv0oYLcbhOTU"
   },
   "source": [
    "#### **3.2** Detailed EDA: Insights and Strategies\n",
    "<font color = red>[50 marks]</font> <br>"
   ]
  },
  {
   "cell_type": "markdown",
   "metadata": {
    "id": "xWJk-CGihnU1"
   },
   "source": [
    "Having performed basic analyses for finding trends and patterns, we will now move on to some detailed analysis focussed on operational efficiency, pricing strategies, and customer experience."
   ]
  },
  {
   "cell_type": "markdown",
   "metadata": {
    "id": "XBY2Y4Jrz9IQ"
   },
   "source": [
    "##### Operational Efficiency"
   ]
  },
  {
   "cell_type": "markdown",
   "metadata": {
    "id": "BXU8Q3sGjGnE"
   },
   "source": [
    "Analyze variations by time of day and location to identify bottlenecks or inefficiencies in routes"
   ]
  },
  {
   "cell_type": "markdown",
   "metadata": {
    "id": "H97VPqVdq7Lz"
   },
   "source": [
    "**3.2.1** <font color = red>[3 marks]</font> <br>\n",
    "Identify slow routes by calculating the average time taken by cabs to get from one zone to another at different hours of the day."
   ]
  },
  {
   "cell_type": "markdown",
   "metadata": {
    "id": "NzTRZyw2q9IR"
   },
   "source": [
    "Speed on a route *X* for hour *Y* = (*distance of the route X / average trip duration for hour Y*)"
   ]
  },
  {
   "cell_type": "code",
   "execution_count": null,
   "metadata": {
    "id": "Ovf-1vIyhk7E"
   },
   "outputs": [],
   "source": [
    "# Find routes which have the slowest speeds at different times of the day\n",
    "\n"
   ]
  },
  {
   "cell_type": "markdown",
   "metadata": {
    "id": "NmRPbH3rm2Ub"
   },
   "source": [
    "How does identifying high-traffic, high-demand routes help us?"
   ]
  },
  {
   "cell_type": "markdown",
   "metadata": {
    "id": "7-w-OCB_nLmb"
   },
   "source": [
    "**3.2.2** <font color = red>[3 marks]</font> <br>\n",
    "Calculate the number of trips at each hour of the day and visualise them. Find the busiest hour and show the number of trips for that hour."
   ]
  },
  {
   "cell_type": "code",
   "execution_count": null,
   "metadata": {
    "id": "BEbRCT31nLUw"
   },
   "outputs": [],
   "source": [
    "# Visualise the number of trips per hour and find the busiest hour\n",
    "\n"
   ]
  },
  {
   "cell_type": "markdown",
   "metadata": {
    "id": "8FuSAA0zn3F4"
   },
   "source": [
    "Remember, we took a fraction of trips. To find the actual number, you have to scale the number up by the sampling ratio."
   ]
  },
  {
   "cell_type": "markdown",
   "metadata": {
    "id": "bapn075QrKaz"
   },
   "source": [
    "**3.2.3** <font color = red>[2 mark]</font> <br>\n",
    "Find the actual number of trips in the five busiest hours"
   ]
  },
  {
   "cell_type": "code",
   "execution_count": null,
   "metadata": {
    "id": "79Hy-YWOoapQ"
   },
   "outputs": [],
   "source": [
    "# Scale up the number of trips\n",
    "\n",
    "# Fill in the value of your sampling fraction and use that to scale up the numbers\n",
    "sample_fraction =\n",
    "\n"
   ]
  },
  {
   "cell_type": "markdown",
   "metadata": {
    "id": "74fhoLxEoaTP"
   },
   "source": [
    "**3.2.4** <font color = red>[3 marks]</font> <br>\n",
    "Compare hourly traffic pattern on weekdays. Also compare for weekend."
   ]
  },
  {
   "cell_type": "code",
   "execution_count": null,
   "metadata": {
    "id": "sYMmCQHwpFRY"
   },
   "outputs": [],
   "source": [
    "# Compare traffic trends for the week days and weekends\n",
    "\n"
   ]
  },
  {
   "cell_type": "markdown",
   "metadata": {
    "id": "tWeuAulNpSOL"
   },
   "source": [
    "What can you infer from the above patterns? How will finding busy and quiet hours for each day help us?"
   ]
  },
  {
   "cell_type": "markdown",
   "metadata": {
    "id": "-S90VG94rGUm"
   },
   "source": [
    "**3.2.5** <font color = red>[3 marks]</font> <br>\n",
    "Identify top 10 zones with high hourly pickups. Do the same for hourly dropoffs. Show pickup and dropoff trends in these zones."
   ]
  },
  {
   "cell_type": "code",
   "execution_count": null,
   "metadata": {
    "id": "-nJGifJFrslP"
   },
   "outputs": [],
   "source": [
    "# Find top 10 pickup and dropoff zones\n",
    "\n"
   ]
  },
  {
   "cell_type": "markdown",
   "metadata": {
    "id": "okkQ17VssMqP"
   },
   "source": [
    "**3.2.6** <font color = red>[3 marks]</font> <br>\n",
    "Find the ratio of pickups and dropoffs in each zone. Display the 10 highest (pickup/drop) and 10 lowest (pickup/drop) ratios."
   ]
  },
  {
   "cell_type": "code",
   "execution_count": null,
   "metadata": {
    "id": "Qbuc8y-KgeDR"
   },
   "outputs": [],
   "source": [
    "# Find the top 10 and bottom 10 pickup/dropoff ratios\n",
    "\n"
   ]
  },
  {
   "cell_type": "markdown",
   "metadata": {
    "id": "2j1ukv-rrxny"
   },
   "source": [
    "**3.2.7** <font color = red>[3 marks]</font> <br>\n",
    "Identify zones with high pickup and dropoff traffic during night hours (11PM to 5AM)"
   ]
  },
  {
   "cell_type": "code",
   "execution_count": null,
   "metadata": {
    "id": "ve65f0GltyE_"
   },
   "outputs": [],
   "source": [
    "# During night hours (11pm to 5am) find the top 10 pickup and dropoff zones\n",
    "# Note that the top zones should be of night hours and not the overall top zones\n",
    "\n"
   ]
  },
  {
   "cell_type": "markdown",
   "metadata": {
    "id": "OtPTHyhTNnNL"
   },
   "source": [
    "Now, let us find the revenue share for the night time hours and the day time hours. After this, we will move to deciding a pricing strategy.\n",
    "\n",
    "**3.2.8** <font color = red>[2 marks]</font> <br>\n",
    "Find the revenue share for nighttime and daytime hours."
   ]
  },
  {
   "cell_type": "code",
   "execution_count": null,
   "metadata": {
    "id": "0ohk4curNl3g"
   },
   "outputs": [],
   "source": [
    "# Filter for night hours (11 PM to 5 AM)\n",
    "\n"
   ]
  },
  {
   "cell_type": "markdown",
   "metadata": {
    "id": "nG77smP4tyWu",
    "jp-MarkdownHeadingCollapsed": true
   },
   "source": [
    "##### Pricing Strategy"
   ]
  },
  {
   "cell_type": "markdown",
   "metadata": {
    "id": "ciF6eThit5IH"
   },
   "source": [
    "**3.2.9** <font color = red>[2 marks]</font> <br>\n",
    "For the different passenger counts, find the average fare per mile per passenger.\n",
    "\n",
    "For instance, suppose the average fare per mile for trips with 3 passengers is 3 USD/mile, then the fare per mile per passenger will be 1 USD/mile."
   ]
  },
  {
   "cell_type": "code",
   "execution_count": null,
   "metadata": {
    "id": "AO7MIuXd9C16"
   },
   "outputs": [],
   "source": [
    "# Analyse the fare per mile per passenger for different passenger counts\n",
    "\n",
    "\n"
   ]
  },
  {
   "cell_type": "markdown",
   "metadata": {
    "id": "WZrN-cxR9DIb"
   },
   "source": [
    "**3.2.10** <font color = red>[3 marks]</font> <br>\n",
    "Find the average fare per mile by hours of the day and by days of the week"
   ]
  },
  {
   "cell_type": "code",
   "execution_count": null,
   "metadata": {
    "id": "hUzCJm2y9SOq"
   },
   "outputs": [],
   "source": [
    "# Compare the average fare per mile for different days and for different times of the day\n",
    "\n"
   ]
  },
  {
   "cell_type": "markdown",
   "metadata": {
    "id": "211WFkhHDUMG"
   },
   "source": [
    "**3.2.11** <font color = red>[3 marks]</font> <br>\n",
    "Analyse the average fare per mile for the different vendors for different hours of the day"
   ]
  },
  {
   "cell_type": "code",
   "execution_count": null,
   "metadata": {
    "id": "my3cGHL1DU04"
   },
   "outputs": [],
   "source": [
    "# Compare fare per mile for different vendors\n",
    "\n"
   ]
  },
  {
   "cell_type": "markdown",
   "metadata": {
    "id": "FH9YJdodtDk4"
   },
   "source": [
    "**3.2.12** <font color = red>[5 marks]</font> <br>\n",
    "Compare the fare rates of the different vendors in a tiered fashion. Analyse the average fare per mile for distances upto 2 miles. Analyse the fare per mile for distances from 2 to 5 miles. And then for distances more than 5 miles.\n"
   ]
  },
  {
   "cell_type": "code",
   "execution_count": null,
   "metadata": {
    "id": "TFRPgO7mgEeT"
   },
   "outputs": [],
   "source": [
    "# Defining distance tiers\n",
    "\n"
   ]
  },
  {
   "cell_type": "markdown",
   "metadata": {
    "id": "M2o6xY0Yh6Gv",
    "jp-MarkdownHeadingCollapsed": true
   },
   "source": [
    "##### Customer Experience and Other Factors"
   ]
  },
  {
   "cell_type": "markdown",
   "metadata": {
    "id": "VSneN-rCh6Gw"
   },
   "source": [
    "**3.2.13** <font color = red>[5 marks]</font> <br>\n",
    "Analyse average tip percentages based on trip distances, passenger counts and time of pickup. What factors lead to low tip percentages?"
   ]
  },
  {
   "cell_type": "code",
   "execution_count": null,
   "metadata": {
    "id": "LO5WazK8h6Gx"
   },
   "outputs": [],
   "source": [
    "#  Analyze tip percentages based on distances, passenger counts and pickup times\n",
    "\n"
   ]
  },
  {
   "cell_type": "markdown",
   "metadata": {
    "id": "wQAIQsrcLm6X"
   },
   "source": [
    "Additional analysis [optional]: Let's try comparing cases of low tips with cases of high tips to find out if we find a clear aspect that drives up the tipping behaviours"
   ]
  },
  {
   "cell_type": "code",
   "execution_count": null,
   "metadata": {
    "collapsed": true,
    "id": "QYoUed6Dn6YW",
    "jupyter": {
     "outputs_hidden": true
    }
   },
   "outputs": [],
   "source": [
    "# Compare trips with tip percentage < 10% to trips with tip percentage > 25%\n",
    "\n"
   ]
  },
  {
   "cell_type": "markdown",
   "metadata": {
    "id": "0UjvGTRKh6Gx"
   },
   "source": [
    "**3.2.14** <font color = red>[3 marks]</font> <br>\n",
    "Analyse the variation of passenger count across hours and days of the week."
   ]
  },
  {
   "cell_type": "code",
   "execution_count": null,
   "metadata": {
    "id": "rFP0DNRvh6Gx"
   },
   "outputs": [],
   "source": [
    "# See how passenger count varies across hours and days\n",
    "\n",
    "\n"
   ]
  },
  {
   "cell_type": "markdown",
   "metadata": {
    "id": "zWKLLlb7h6Gy"
   },
   "source": [
    "**3.2.15** <font color = red>[2 marks]</font> <br>\n",
    "Analyse the variation of passenger counts across zones"
   ]
  },
  {
   "cell_type": "code",
   "execution_count": null,
   "metadata": {
    "id": "30h27Uz2h6Gy"
   },
   "outputs": [],
   "source": [
    "# How does passenger count vary across zones\n",
    "\n"
   ]
  },
  {
   "cell_type": "code",
   "execution_count": null,
   "metadata": {
    "id": "C3I0AfOkvBWA"
   },
   "outputs": [],
   "source": [
    "# For a more detailed analysis, we can use the zones_with_trips GeoDataFrame\n",
    "# Create a new column for the average passenger count in each zone.\n",
    "\n"
   ]
  },
  {
   "cell_type": "markdown",
   "metadata": {
    "id": "rw0j5Z-1h6Gz"
   },
   "source": [
    "Find out how often surcharges/extra charges are applied to understand their prevalance"
   ]
  },
  {
   "cell_type": "markdown",
   "metadata": {
    "id": "x9IHjHFBx6Ye"
   },
   "source": [
    "**3.2.16** <font color = red>[5 marks]</font> <br>\n",
    "Analyse the pickup/dropoff zones or times when extra charges are applied more frequently"
   ]
  },
  {
   "cell_type": "code",
   "execution_count": null,
   "metadata": {
    "id": "nKbXwZJwh6Gz"
   },
   "outputs": [],
   "source": [
    "# How often is each surcharge applied?\n",
    "\n"
   ]
  },
  {
   "cell_type": "markdown",
   "metadata": {
    "id": "bkyc9q40Cts-",
    "jp-MarkdownHeadingCollapsed": true
   },
   "source": [
    "## **4** Conclusion\n",
    "<font color = red>[15 marks]</font> <br>"
   ]
  },
  {
   "cell_type": "markdown",
   "metadata": {
    "id": "Z5yCODI-C6yR",
    "jp-MarkdownHeadingCollapsed": true
   },
   "source": [
    "### **4.1** Final Insights and Recommendations\n",
    "<font color = red>[15 marks]</font> <br>\n",
    "\n",
    "Conclude your analyses here. Include all the outcomes you found based on the analysis.\n",
    "\n",
    "Based on the insights, frame a concluding story explaining suitable parameters such as location, time of the day, day of the week etc. to be kept in mind while devising a strategy to meet customer demand and optimise supply."
   ]
  },
  {
   "cell_type": "markdown",
   "metadata": {
    "id": "0dy8J-C8jJjk"
   },
   "source": [
    "**4.1.1** <font color = red>[5 marks]</font> <br>\n",
    "Recommendations to optimize routing and dispatching based on demand patterns and operational inefficiencies"
   ]
  },
  {
   "cell_type": "code",
   "execution_count": null,
   "metadata": {
    "id": "J03px17x_rD9"
   },
   "outputs": [],
   "source": []
  },
  {
   "cell_type": "markdown",
   "metadata": {
    "id": "AaLgTWxpjt7h"
   },
   "source": [
    "**4.1.2** <font color = red>[5 marks]</font> <br>\n",
    "\n",
    "Suggestions on strategically positioning cabs across different zones to make best use of insights uncovered by analysing trip trends across time, days and months."
   ]
  },
  {
   "cell_type": "code",
   "execution_count": null,
   "metadata": {
    "id": "c8ZbTIF7_rsN"
   },
   "outputs": [],
   "source": []
  },
  {
   "cell_type": "markdown",
   "metadata": {
    "id": "mUU4mn50jMZy"
   },
   "source": [
    "**4.1.3** <font color = red>[5 marks]</font> <br>\n",
    "Propose data-driven adjustments to the pricing strategy to maximize revenue while maintaining competitive rates with other vendors."
   ]
  },
  {
   "cell_type": "code",
   "execution_count": null,
   "metadata": {
    "id": "SXErHFjx_sGN"
   },
   "outputs": [],
   "source": []
  }
 ],
 "metadata": {
  "colab": {
   "collapsed_sections": [
    "-OVfUMlHFkZD",
    "0eaCZjHIvfuI",
    "Kw-WRzBfyS7j",
    "nM2X-s6lycvQ",
    "NgHgbPIepaYl",
    "QaOS3H9izZ0N",
    "HZvPSwJx0S3K",
    "x2hakCCy6wXI",
    "2jyQyYIpCztl",
    "gPpJyFFNffcL",
    "a4N3PvkSTwcN",
    "MbGMjArkiXjL",
    "23IqsgNjHNpJ",
    "CVXxcSYHj9sh",
    "Rv0oYLcbhOTU",
    "XBY2Y4Jrz9IQ",
    "nG77smP4tyWu",
    "M2o6xY0Yh6Gv",
    "bkyc9q40Cts-",
    "Z5yCODI-C6yR"
   ],
   "provenance": [
    {
     "file_id": "1PvYLECban8pmD-aFGV_yoRF2PyRwLntw",
     "timestamp": 1737110016234
    },
    {
     "file_id": "1jppXTxMvUcVsY27R_ckdE5DAnxrROUY1",
     "timestamp": 1732620370544
    }
   ],
   "toc_visible": true
  },
  "kernelspec": {
   "display_name": "Python [conda env:base] *",
   "language": "python",
   "name": "conda-base-py"
  },
  "language_info": {
   "codemirror_mode": {
    "name": "ipython",
    "version": 3
   },
   "file_extension": ".py",
   "mimetype": "text/x-python",
   "name": "python",
   "nbconvert_exporter": "python",
   "pygments_lexer": "ipython3",
   "version": "3.12.7"
  }
 },
 "nbformat": 4,
 "nbformat_minor": 4
}
